{
 "cells": [
  {
   "cell_type": "markdown",
   "metadata": {},
   "source": [
    "# STUDENT’S EARLY ATTRITION MODELLING FOR CLEARWATER STATE UNIVERSITY"
   ]
  },
  {
   "cell_type": "markdown",
   "metadata": {},
   "source": [
    "# PROJECT DESCRIPTION:"
   ]
  },
  {
   "cell_type": "markdown",
   "metadata": {},
   "source": [
    "Clearwater State University offers a wide variety of degree programs, from online degrees to a doctorate in education. Programs are offered in the streams of the arts, education, business& nursing. Some key strategic goals of the University are:\n",
    "\n",
    "• Increase enrolment of students  \n",
    "• Improve retention, progression and graduation rates  \n",
    "• Recruit better academically qualified undergraduate and graduate students  \n",
    "• Increase external funding and recognition "
   ]
  },
  {
   "cell_type": "markdown",
   "metadata": {},
   "source": [
    "# PROBLEM STATEMENT"
   ]
  },
  {
   "cell_type": "markdown",
   "metadata": {},
   "source": [
    "Understanding why and when Students are most likely to leave can lead to actions to improve students retention as well as possibly planning new improvements in advance.\n",
    "\n",
    "This project would fall under what is commonly known as \"Student Analytics\"."
   ]
  },
  {
   "cell_type": "markdown",
   "metadata": {},
   "source": [
    "# IN THIS STUDY, WE WILL ATTEMPT TO SOLVE THE FOLLOWING PROBLEM              STATEMENT"
   ]
  },
  {
   "cell_type": "markdown",
   "metadata": {},
   "source": [
    "1. Identify key drivers of early student attrition  \n",
    "2. Build a predictive model to identify students with higher early attrition risk \n",
    "3. Recommend appropriate interventions based on the analysis"
   ]
  },
  {
   "cell_type": "markdown",
   "metadata": {},
   "source": [
    "# NOTE:"
   ]
  },
  {
   "cell_type": "markdown",
   "metadata": {},
   "source": [
    "Early attrition is defined as student drop out within one year of successfully joining the program(completed admission process)"
   ]
  },
  {
   "cell_type": "markdown",
   "metadata": {},
   "source": [
    "# DATASET ANALYSIS"
   ]
  },
  {
   "cell_type": "markdown",
   "metadata": {},
   "source": [
    "In this case study, a \"Student Applications & Performance.xlsx\" dataset was sourced from Clearwater State University Students Attrition & Performance which contains students data for 3400 students with various information about the students. I will use this dataset to predict when students are going to quit by understanding the main drivers of students churn"
   ]
  },
  {
   "cell_type": "markdown",
   "metadata": {},
   "source": [
    "# IMPORTING PYTHON LIBRARIES"
   ]
  },
  {
   "cell_type": "code",
   "execution_count": 1,
   "metadata": {},
   "outputs": [],
   "source": [
    "#to ignore warning messages\n",
    "import warnings\n",
    "warnings.filterwarnings('ignore')\n",
    "from subprocess import check_output"
   ]
  },
  {
   "cell_type": "code",
   "execution_count": 2,
   "metadata": {},
   "outputs": [],
   "source": [
    "#basic essential libraries\n",
    "import pandas as pd\n",
    "import numpy as np\n",
    "import scipy as sp\n",
    "import sklearn as sk\n",
    "import random\n",
    "import string\n",
    "#common model algorithms\n",
    "from sklearn import tree\n",
    "from sklearn.ensemble import RandomForestClassifier, GradientBoostingClassifier, AdaBoostClassifier\n",
    "from xgboost import XGBClassifier\n",
    "from sklearn.linear_model import Lasso,  LogisticRegression, RidgeCV\n",
    "#statsmodel\n",
    "import statsmodels.api as sm\n",
    "from scipy import stats\n",
    "#for data preprocessing and other sampling techniques\n",
    "from sklearn.utils import resample\n",
    "from sklearn.preprocessing import StandardScaler, LabelEncoder\n",
    "#evaluation metrics and tuning models\n",
    "from sklearn.model_selection import train_test_split, GridSearchCV, cross_val_score\n",
    "from sklearn.metrics import mean_squared_error, r2_score, mean_absolute_error"
   ]
  },
  {
   "cell_type": "code",
   "execution_count": 3,
   "metadata": {},
   "outputs": [],
   "source": [
    "\n",
    "import matplotlib as mpl\n",
    "import matplotlib.pyplot as plt\n",
    "import matplotlib.pylab as pylab\n",
    "import seaborn as sns\n",
    "\n",
    "#set visual parameters\n",
    "%matplotlib inline\n",
    "pylab.rcParams['figure.figsize'] = 10,6"
   ]
  },
  {
   "cell_type": "code",
   "execution_count": 4,
   "metadata": {},
   "outputs": [],
   "source": [
    "import os\n",
    "data_dir=r'C:\\Users\\pradeepC\\Desktop\\achievment\\02 CAPSTONE BOOTCAMP 15'"
   ]
  },
  {
   "cell_type": "code",
   "execution_count": 5,
   "metadata": {},
   "outputs": [],
   "source": [
    "os.chdir(data_dir)"
   ]
  },
  {
   "cell_type": "code",
   "execution_count": 6,
   "metadata": {},
   "outputs": [],
   "source": [
    "data=pd.read_excel('Student Applications & Performance.xlsx')"
   ]
  },
  {
   "cell_type": "code",
   "execution_count": 7,
   "metadata": {},
   "outputs": [
    {
     "data": {
      "text/html": [
       "<div>\n",
       "<style scoped>\n",
       "    .dataframe tbody tr th:only-of-type {\n",
       "        vertical-align: middle;\n",
       "    }\n",
       "\n",
       "    .dataframe tbody tr th {\n",
       "        vertical-align: top;\n",
       "    }\n",
       "\n",
       "    .dataframe thead th {\n",
       "        text-align: right;\n",
       "    }\n",
       "</style>\n",
       "<table border=\"1\" class=\"dataframe\">\n",
       "  <thead>\n",
       "    <tr style=\"text-align: right;\">\n",
       "      <th></th>\n",
       "      <th>STUDENT IDENTIFIER</th>\n",
       "      <th>STDNT_AGE</th>\n",
       "      <th>STDNT_GENDER</th>\n",
       "      <th>STDNT_BACKGROUND</th>\n",
       "      <th>IN_STATE_FLAG</th>\n",
       "      <th>INTERNATIONAL_STS</th>\n",
       "      <th>STDNT_MAJOR</th>\n",
       "      <th>STDNT_MINOR</th>\n",
       "      <th>STDNT_TEST_ENTRANCE1</th>\n",
       "      <th>STDNT_TEST_ENTRANCE2</th>\n",
       "      <th>...</th>\n",
       "      <th>DEGREE_GROUP_CD</th>\n",
       "      <th>DEGREE_GROUP_DESC</th>\n",
       "      <th>FIRST_TERM_ATTEMPT_HRS</th>\n",
       "      <th>FIRST_TERM_EARNED_HRS</th>\n",
       "      <th>SECOND_TERM_ATTEMPT_HRS</th>\n",
       "      <th>SECOND_TERM_EARNED_HRS</th>\n",
       "      <th>GROSS_FIN_NEED</th>\n",
       "      <th>COST_OF_ATTEND</th>\n",
       "      <th>EST_FAM_CONTRIBUTION</th>\n",
       "      <th>UNMET_NEED</th>\n",
       "    </tr>\n",
       "  </thead>\n",
       "  <tbody>\n",
       "    <tr>\n",
       "      <td>0</td>\n",
       "      <td>7808615</td>\n",
       "      <td>18</td>\n",
       "      <td>F</td>\n",
       "      <td>BGD 1</td>\n",
       "      <td>Y</td>\n",
       "      <td>N</td>\n",
       "      <td>Undeclared</td>\n",
       "      <td>N</td>\n",
       "      <td>NaN</td>\n",
       "      <td>1150.0</td>\n",
       "      <td>...</td>\n",
       "      <td>B</td>\n",
       "      <td>Bachelors</td>\n",
       "      <td>16</td>\n",
       "      <td>16</td>\n",
       "      <td>14.0</td>\n",
       "      <td>14.0</td>\n",
       "      <td>0</td>\n",
       "      <td>0</td>\n",
       "      <td>0</td>\n",
       "      <td>0.0</td>\n",
       "    </tr>\n",
       "    <tr>\n",
       "      <td>1</td>\n",
       "      <td>7830063</td>\n",
       "      <td>19</td>\n",
       "      <td>F</td>\n",
       "      <td>BGD 1</td>\n",
       "      <td>N</td>\n",
       "      <td>N</td>\n",
       "      <td>Undeclared</td>\n",
       "      <td>N</td>\n",
       "      <td>26.0</td>\n",
       "      <td>NaN</td>\n",
       "      <td>...</td>\n",
       "      <td>B</td>\n",
       "      <td>Bachelors</td>\n",
       "      <td>18</td>\n",
       "      <td>18</td>\n",
       "      <td>18.0</td>\n",
       "      <td>18.0</td>\n",
       "      <td>570000</td>\n",
       "      <td>1355760</td>\n",
       "      <td>785760</td>\n",
       "      <td>459300.0</td>\n",
       "    </tr>\n",
       "    <tr>\n",
       "      <td>2</td>\n",
       "      <td>7847538</td>\n",
       "      <td>18</td>\n",
       "      <td>M</td>\n",
       "      <td>BGD 1</td>\n",
       "      <td>Y</td>\n",
       "      <td>N</td>\n",
       "      <td>Mathematics</td>\n",
       "      <td>N</td>\n",
       "      <td>NaN</td>\n",
       "      <td>1020.0</td>\n",
       "      <td>...</td>\n",
       "      <td>B</td>\n",
       "      <td>Bachelors</td>\n",
       "      <td>15</td>\n",
       "      <td>15</td>\n",
       "      <td>14.0</td>\n",
       "      <td>14.0</td>\n",
       "      <td>0</td>\n",
       "      <td>0</td>\n",
       "      <td>0</td>\n",
       "      <td>0.0</td>\n",
       "    </tr>\n",
       "    <tr>\n",
       "      <td>3</td>\n",
       "      <td>8006429</td>\n",
       "      <td>18</td>\n",
       "      <td>M</td>\n",
       "      <td>BGD 1</td>\n",
       "      <td>Y</td>\n",
       "      <td>N</td>\n",
       "      <td>Undeclared</td>\n",
       "      <td>N</td>\n",
       "      <td>NaN</td>\n",
       "      <td>1210.0</td>\n",
       "      <td>...</td>\n",
       "      <td>B</td>\n",
       "      <td>Bachelors</td>\n",
       "      <td>13</td>\n",
       "      <td>13</td>\n",
       "      <td>14.0</td>\n",
       "      <td>14.0</td>\n",
       "      <td>0</td>\n",
       "      <td>0</td>\n",
       "      <td>0</td>\n",
       "      <td>0.0</td>\n",
       "    </tr>\n",
       "  </tbody>\n",
       "</table>\n",
       "<p>4 rows × 56 columns</p>\n",
       "</div>"
      ],
      "text/plain": [
       "   STUDENT IDENTIFIER  STDNT_AGE STDNT_GENDER STDNT_BACKGROUND IN_STATE_FLAG  \\\n",
       "0             7808615         18            F            BGD 1             Y   \n",
       "1             7830063         19            F            BGD 1             N   \n",
       "2             7847538         18            M            BGD 1             Y   \n",
       "3             8006429         18            M            BGD 1             Y   \n",
       "\n",
       "  INTERNATIONAL_STS  STDNT_MAJOR STDNT_MINOR  STDNT_TEST_ENTRANCE1  \\\n",
       "0                 N   Undeclared           N                   NaN   \n",
       "1                 N   Undeclared           N                  26.0   \n",
       "2                 N  Mathematics           N                   NaN   \n",
       "3                 N   Undeclared           N                   NaN   \n",
       "\n",
       "   STDNT_TEST_ENTRANCE2  ...  DEGREE_GROUP_CD  DEGREE_GROUP_DESC  \\\n",
       "0                1150.0  ...                B          Bachelors   \n",
       "1                   NaN  ...                B          Bachelors   \n",
       "2                1020.0  ...                B          Bachelors   \n",
       "3                1210.0  ...                B          Bachelors   \n",
       "\n",
       "  FIRST_TERM_ATTEMPT_HRS FIRST_TERM_EARNED_HRS SECOND_TERM_ATTEMPT_HRS  \\\n",
       "0                     16                    16                    14.0   \n",
       "1                     18                    18                    18.0   \n",
       "2                     15                    15                    14.0   \n",
       "3                     13                    13                    14.0   \n",
       "\n",
       "  SECOND_TERM_EARNED_HRS GROSS_FIN_NEED COST_OF_ATTEND EST_FAM_CONTRIBUTION  \\\n",
       "0                   14.0              0              0                    0   \n",
       "1                   18.0         570000        1355760               785760   \n",
       "2                   14.0              0              0                    0   \n",
       "3                   14.0              0              0                    0   \n",
       "\n",
       "  UNMET_NEED  \n",
       "0        0.0  \n",
       "1   459300.0  \n",
       "2        0.0  \n",
       "3        0.0  \n",
       "\n",
       "[4 rows x 56 columns]"
      ]
     },
     "execution_count": 7,
     "metadata": {},
     "output_type": "execute_result"
    }
   ],
   "source": [
    "data.head(4)"
   ]
  },
  {
   "cell_type": "code",
   "execution_count": 8,
   "metadata": {},
   "outputs": [
    {
     "data": {
      "text/html": [
       "<div>\n",
       "<style scoped>\n",
       "    .dataframe tbody tr th:only-of-type {\n",
       "        vertical-align: middle;\n",
       "    }\n",
       "\n",
       "    .dataframe tbody tr th {\n",
       "        vertical-align: top;\n",
       "    }\n",
       "\n",
       "    .dataframe thead th {\n",
       "        text-align: right;\n",
       "    }\n",
       "</style>\n",
       "<table border=\"1\" class=\"dataframe\">\n",
       "  <thead>\n",
       "    <tr style=\"text-align: right;\">\n",
       "      <th></th>\n",
       "      <th>STUDENT IDENTIFIER</th>\n",
       "      <th>STDNT_AGE</th>\n",
       "      <th>STDNT_GENDER</th>\n",
       "      <th>STDNT_BACKGROUND</th>\n",
       "      <th>IN_STATE_FLAG</th>\n",
       "      <th>INTERNATIONAL_STS</th>\n",
       "      <th>STDNT_MAJOR</th>\n",
       "      <th>STDNT_MINOR</th>\n",
       "      <th>STDNT_TEST_ENTRANCE1</th>\n",
       "      <th>STDNT_TEST_ENTRANCE2</th>\n",
       "      <th>...</th>\n",
       "      <th>DEGREE_GROUP_CD</th>\n",
       "      <th>DEGREE_GROUP_DESC</th>\n",
       "      <th>FIRST_TERM_ATTEMPT_HRS</th>\n",
       "      <th>FIRST_TERM_EARNED_HRS</th>\n",
       "      <th>SECOND_TERM_ATTEMPT_HRS</th>\n",
       "      <th>SECOND_TERM_EARNED_HRS</th>\n",
       "      <th>GROSS_FIN_NEED</th>\n",
       "      <th>COST_OF_ATTEND</th>\n",
       "      <th>EST_FAM_CONTRIBUTION</th>\n",
       "      <th>UNMET_NEED</th>\n",
       "    </tr>\n",
       "  </thead>\n",
       "  <tbody>\n",
       "    <tr>\n",
       "      <td>3396</td>\n",
       "      <td>8023055</td>\n",
       "      <td>18</td>\n",
       "      <td>F</td>\n",
       "      <td>BGD 1</td>\n",
       "      <td>Y</td>\n",
       "      <td>N</td>\n",
       "      <td>Biology</td>\n",
       "      <td>N</td>\n",
       "      <td>20.0</td>\n",
       "      <td>NaN</td>\n",
       "      <td>...</td>\n",
       "      <td>B</td>\n",
       "      <td>Bachelors</td>\n",
       "      <td>13</td>\n",
       "      <td>9</td>\n",
       "      <td>NaN</td>\n",
       "      <td>NaN</td>\n",
       "      <td>0</td>\n",
       "      <td>0</td>\n",
       "      <td>0</td>\n",
       "      <td>0.0</td>\n",
       "    </tr>\n",
       "    <tr>\n",
       "      <td>3397</td>\n",
       "      <td>7926915</td>\n",
       "      <td>18</td>\n",
       "      <td>F</td>\n",
       "      <td>BGD 4</td>\n",
       "      <td>Y</td>\n",
       "      <td>N</td>\n",
       "      <td>Biology</td>\n",
       "      <td>N</td>\n",
       "      <td>NaN</td>\n",
       "      <td>1020.0</td>\n",
       "      <td>...</td>\n",
       "      <td>B</td>\n",
       "      <td>Bachelors</td>\n",
       "      <td>14</td>\n",
       "      <td>6</td>\n",
       "      <td>NaN</td>\n",
       "      <td>NaN</td>\n",
       "      <td>0</td>\n",
       "      <td>945840</td>\n",
       "      <td>1288980</td>\n",
       "      <td>0.0</td>\n",
       "    </tr>\n",
       "    <tr>\n",
       "      <td>3398</td>\n",
       "      <td>7877332</td>\n",
       "      <td>18</td>\n",
       "      <td>F</td>\n",
       "      <td>BGD 3</td>\n",
       "      <td>Y</td>\n",
       "      <td>N</td>\n",
       "      <td>Joint Enrollment - Accel</td>\n",
       "      <td>N</td>\n",
       "      <td>21.0</td>\n",
       "      <td>NaN</td>\n",
       "      <td>...</td>\n",
       "      <td>B</td>\n",
       "      <td>Bachelors</td>\n",
       "      <td>12</td>\n",
       "      <td>9</td>\n",
       "      <td>NaN</td>\n",
       "      <td>NaN</td>\n",
       "      <td>0</td>\n",
       "      <td>269100</td>\n",
       "      <td>0</td>\n",
       "      <td>-231720.0</td>\n",
       "    </tr>\n",
       "    <tr>\n",
       "      <td>3399</td>\n",
       "      <td>7928405</td>\n",
       "      <td>18</td>\n",
       "      <td>M</td>\n",
       "      <td>BGD 2</td>\n",
       "      <td>Y</td>\n",
       "      <td>N</td>\n",
       "      <td>Art</td>\n",
       "      <td>Creative Writing</td>\n",
       "      <td>NaN</td>\n",
       "      <td>890.0</td>\n",
       "      <td>...</td>\n",
       "      <td>B</td>\n",
       "      <td>Bachelors</td>\n",
       "      <td>12</td>\n",
       "      <td>9</td>\n",
       "      <td>13.0</td>\n",
       "      <td>6.0</td>\n",
       "      <td>0</td>\n",
       "      <td>0</td>\n",
       "      <td>0</td>\n",
       "      <td>0.0</td>\n",
       "    </tr>\n",
       "  </tbody>\n",
       "</table>\n",
       "<p>4 rows × 56 columns</p>\n",
       "</div>"
      ],
      "text/plain": [
       "      STUDENT IDENTIFIER  STDNT_AGE STDNT_GENDER STDNT_BACKGROUND  \\\n",
       "3396             8023055         18            F            BGD 1   \n",
       "3397             7926915         18            F            BGD 4   \n",
       "3398             7877332         18            F            BGD 3   \n",
       "3399             7928405         18            M            BGD 2   \n",
       "\n",
       "     IN_STATE_FLAG INTERNATIONAL_STS               STDNT_MAJOR  \\\n",
       "3396             Y                 N                   Biology   \n",
       "3397             Y                 N                   Biology   \n",
       "3398             Y                 N  Joint Enrollment - Accel   \n",
       "3399             Y                 N                       Art   \n",
       "\n",
       "           STDNT_MINOR  STDNT_TEST_ENTRANCE1  STDNT_TEST_ENTRANCE2  ...  \\\n",
       "3396                 N                  20.0                   NaN  ...   \n",
       "3397                 N                   NaN                1020.0  ...   \n",
       "3398                 N                  21.0                   NaN  ...   \n",
       "3399  Creative Writing                   NaN                 890.0  ...   \n",
       "\n",
       "      DEGREE_GROUP_CD  DEGREE_GROUP_DESC FIRST_TERM_ATTEMPT_HRS  \\\n",
       "3396                B          Bachelors                     13   \n",
       "3397                B          Bachelors                     14   \n",
       "3398                B          Bachelors                     12   \n",
       "3399                B          Bachelors                     12   \n",
       "\n",
       "     FIRST_TERM_EARNED_HRS SECOND_TERM_ATTEMPT_HRS SECOND_TERM_EARNED_HRS  \\\n",
       "3396                     9                     NaN                    NaN   \n",
       "3397                     6                     NaN                    NaN   \n",
       "3398                     9                     NaN                    NaN   \n",
       "3399                     9                    13.0                    6.0   \n",
       "\n",
       "     GROSS_FIN_NEED COST_OF_ATTEND EST_FAM_CONTRIBUTION UNMET_NEED  \n",
       "3396              0              0                    0        0.0  \n",
       "3397              0         945840              1288980        0.0  \n",
       "3398              0         269100                    0  -231720.0  \n",
       "3399              0              0                    0        0.0  \n",
       "\n",
       "[4 rows x 56 columns]"
      ]
     },
     "execution_count": 8,
     "metadata": {},
     "output_type": "execute_result"
    }
   ],
   "source": [
    "data.tail(4)"
   ]
  },
  {
   "cell_type": "code",
   "execution_count": 9,
   "metadata": {},
   "outputs": [
    {
     "data": {
      "text/plain": [
       "(3400, 56)"
      ]
     },
     "execution_count": 9,
     "metadata": {},
     "output_type": "execute_result"
    }
   ],
   "source": [
    "data.shape"
   ]
  },
  {
   "cell_type": "markdown",
   "metadata": {},
   "source": [
    "# DATA QUALITY CHECKS\n",
    "To look for any null values, we can just invoke the isnull call as follows"
   ]
  },
  {
   "cell_type": "code",
   "execution_count": 10,
   "metadata": {},
   "outputs": [
    {
     "data": {
      "text/plain": [
       "STUDENT IDENTIFIER             0\n",
       "STDNT_AGE                      0\n",
       "STDNT_GENDER                   0\n",
       "STDNT_BACKGROUND               0\n",
       "IN_STATE_FLAG                  0\n",
       "INTERNATIONAL_STS              0\n",
       "STDNT_MAJOR                    0\n",
       "STDNT_MINOR                    0\n",
       "STDNT_TEST_ENTRANCE1        2294\n",
       "STDNT_TEST_ENTRANCE2         908\n",
       "STDNT_TEST_ENTRANCE_COMB     518\n",
       "FIRST_TERM                     0\n",
       "CORE_COURSE_NAME_1_F           0\n",
       "CORE_COURSE_GRADE_1_F          0\n",
       "CORE_COURSE_NAME_2_F          99\n",
       "CORE_COURSE_GRADE_2_F         99\n",
       "CORE_COURSE_NAME_3_F         565\n",
       "CORE_COURSE_GRADE_3_F        565\n",
       "CORE_COURSE_NAME_4_F        1597\n",
       "CORE_COURSE_GRADE_4_F       1597\n",
       "CORE_COURSE_NAME_5_F        2755\n",
       "CORE_COURSE_GRADE_5_F       2755\n",
       "CORE_COURSE_NAME_6_F        3272\n",
       "CORE_COURSE_GRADE_6_F       3272\n",
       "SECOND_TERM                    0\n",
       "CORE_COURSE_NAME_1_S         157\n",
       "CORE_COURSE_GRADE_1_S        232\n",
       "CORE_COURSE_NAME_2_S         439\n",
       "CORE_COURSE_GRADE_2_S        439\n",
       "CORE_COURSE_NAME_3_S        1038\n",
       "CORE_COURSE_GRADE_3_S       1038\n",
       "CORE_COURSE_NAME_4_S        2045\n",
       "CORE_COURSE_GRADE_4_S       2045\n",
       "CORE_COURSE_NAME_5_S        2950\n",
       "CORE_COURSE_GRADE_5_S       2950\n",
       "CORE_COURSE_NAME_6_S        3319\n",
       "CORE_COURSE_GRADE_6_S       3319\n",
       "HOUSING_STS                    0\n",
       "RETURNED_2ND_YR                0\n",
       "DISTANCE_FROM_HOME            25\n",
       "HIGH_SCHL_GPA                 53\n",
       "HIGH_SCHL_NAME                 1\n",
       "FATHER_HI_EDU_CD             432\n",
       "FATHER_HI_EDU_DESC             0\n",
       "MOTHER_HI_EDU_CD             489\n",
       "MOTHER_HI_EDU_DESC             0\n",
       "DEGREE_GROUP_CD                0\n",
       "DEGREE_GROUP_DESC              0\n",
       "FIRST_TERM_ATTEMPT_HRS         0\n",
       "FIRST_TERM_EARNED_HRS          0\n",
       "SECOND_TERM_ATTEMPT_HRS      206\n",
       "SECOND_TERM_EARNED_HRS       209\n",
       "GROSS_FIN_NEED                 0\n",
       "COST_OF_ATTEND                 0\n",
       "EST_FAM_CONTRIBUTION           0\n",
       "UNMET_NEED                     0\n",
       "dtype: int64"
      ]
     },
     "execution_count": 10,
     "metadata": {},
     "output_type": "execute_result"
    }
   ],
   "source": [
    "data.isnull().sum()"
   ]
  },
  {
   "cell_type": "code",
   "execution_count": 11,
   "metadata": {},
   "outputs": [
    {
     "data": {
      "text/plain": [
       "<matplotlib.axes._subplots.AxesSubplot at 0x1ecb4ed9fc8>"
      ]
     },
     "execution_count": 11,
     "metadata": {},
     "output_type": "execute_result"
    },
    {
     "data": {
      "image/png": "[encoded data removed]",
      "text/plain": [
       "<Figure size 432x288 with 1 Axes>"
      ]
     },
     "metadata": {
      "needs_background": "light"
     },
     "output_type": "display_data"
    }
   ],
   "source": [
    "sns.heatmap(data.isnull(),yticklabels=False,cbar=False,cmap='viridis')"
   ]
  },
  {
   "cell_type": "code",
   "execution_count": 12,
   "metadata": {},
   "outputs": [
    {
     "data": {
      "image/png": "[encoded data removed]",
      "text/plain": [
       "<Figure size 1440x1440 with 20 Axes>"
      ]
     },
     "metadata": {
      "needs_background": "light"
     },
     "output_type": "display_data"
    }
   ],
   "source": [
    "data.hist(figsize=(20,20))\n",
    "plt.show()"
   ]
  },
  {
   "cell_type": "markdown",
   "metadata": {},
   "source": [
    "A few observations can be made based on the information and histograms for numerical features:\n",
    "\n",
    "1) Many histograms are tail-heavy\n",
    "\n",
    "2) Student Number is likely to be a unique identifier for Students given the feature\n",
    "\n",
    "3) Our target variable is column='RETURNED_2ND_YR'"
   ]
  },
  {
   "cell_type": "markdown",
   "metadata": {},
   "source": [
    "# DROPING COLUMNS"
   ]
  },
  {
   "cell_type": "code",
   "execution_count": 13,
   "metadata": {},
   "outputs": [],
   "source": [
    "data.drop(['STDNT_TEST_ENTRANCE1','STDNT_TEST_ENTRANCE2',\n",
    "           'FATHER_HI_EDU_CD','MOTHER_HI_EDU_CD','DEGREE_GROUP_CD','CORE_COURSE_NAME_4_F',\n",
    "           'CORE_COURSE_GRADE_4_F','CORE_COURSE_NAME_5_F','CORE_COURSE_GRADE_5_F','CORE_COURSE_NAME_6_F',\n",
    "          'CORE_COURSE_GRADE_6_F','CORE_COURSE_GRADE_6_S','CORE_COURSE_NAME_6_S','CORE_COURSE_GRADE_5_S',\n",
    "           'CORE_COURSE_NAME_5_S','CORE_COURSE_GRADE_4_S','CORE_COURSE_NAME_4_S','STDNT_MINOR',\n",
    "          'HIGH_SCHL_NAME'], axis=1, inplace=True)"
   ]
  },
  {
   "cell_type": "markdown",
   "metadata": {},
   "source": [
    "# TARGET VARIABLE"
   ]
  },
  {
   "cell_type": "code",
   "execution_count": 14,
   "metadata": {},
   "outputs": [],
   "source": [
    "def d(x):\n",
    "    if x==0.0:\n",
    "        return 1.0\n",
    "    else:\n",
    "        return 0.0"
   ]
  },
  {
   "cell_type": "code",
   "execution_count": 15,
   "metadata": {},
   "outputs": [],
   "source": [
    "data['RETURNED_2ND_YR']=data['RETURNED_2ND_YR'].map(d)"
   ]
  },
  {
   "cell_type": "code",
   "execution_count": 16,
   "metadata": {},
   "outputs": [
    {
     "data": {
      "text/plain": [
       "0.0    2677\n",
       "1.0     723\n",
       "Name: RETURNED_2ND_YR, dtype: int64"
      ]
     },
     "execution_count": 16,
     "metadata": {},
     "output_type": "execute_result"
    }
   ],
   "source": [
    "data['RETURNED_2ND_YR'].value_counts()"
   ]
  },
  {
   "cell_type": "markdown",
   "metadata": {},
   "source": [
    "DATA CLEANING"
   ]
  },
  {
   "cell_type": "code",
   "execution_count": 17,
   "metadata": {},
   "outputs": [],
   "source": [
    "data['FIRST_TERM']=data['FIRST_TERM'].replace({200508:2005,200608:2006,200708:2007,200808:2008,200908:2009,201008:2010})\n",
    "data['SECOND_TERM']=data['SECOND_TERM'].replace({200602:2006,200702:2007,200802:2008,200902:2009,201002:2010,201102:2011})"
   ]
  },
  {
   "cell_type": "code",
   "execution_count": 18,
   "metadata": {},
   "outputs": [],
   "source": [
    "data['CORE_COURSE_NAME_1_F']=data['CORE_COURSE_NAME_1_F'].str.slice(0,4)"
   ]
  },
  {
   "cell_type": "code",
   "execution_count": 19,
   "metadata": {},
   "outputs": [],
   "source": [
    "data['CORE_COURSE_NAME_2_F']=data['CORE_COURSE_NAME_2_F'].str.slice(0,4)"
   ]
  },
  {
   "cell_type": "code",
   "execution_count": 20,
   "metadata": {},
   "outputs": [],
   "source": [
    "data['CORE_COURSE_NAME_3_F']=data['CORE_COURSE_NAME_3_F'].str.slice(0,4)"
   ]
  },
  {
   "cell_type": "code",
   "execution_count": 21,
   "metadata": {},
   "outputs": [
    {
     "data": {
      "text/html": [
       "<div>\n",
       "<style scoped>\n",
       "    .dataframe tbody tr th:only-of-type {\n",
       "        vertical-align: middle;\n",
       "    }\n",
       "\n",
       "    .dataframe tbody tr th {\n",
       "        vertical-align: top;\n",
       "    }\n",
       "\n",
       "    .dataframe thead th {\n",
       "        text-align: right;\n",
       "    }\n",
       "</style>\n",
       "<table border=\"1\" class=\"dataframe\">\n",
       "  <thead>\n",
       "    <tr style=\"text-align: right;\">\n",
       "      <th></th>\n",
       "      <th>const</th>\n",
       "      <th>STUDENT IDENTIFIER</th>\n",
       "      <th>STDNT_AGE</th>\n",
       "      <th>STDNT_GENDER</th>\n",
       "      <th>STDNT_BACKGROUND</th>\n",
       "      <th>IN_STATE_FLAG</th>\n",
       "      <th>INTERNATIONAL_STS</th>\n",
       "      <th>STDNT_MAJOR</th>\n",
       "      <th>STDNT_TEST_ENTRANCE_COMB</th>\n",
       "      <th>FIRST_TERM</th>\n",
       "      <th>...</th>\n",
       "      <th>MOTHER_HI_EDU_DESC</th>\n",
       "      <th>DEGREE_GROUP_DESC</th>\n",
       "      <th>FIRST_TERM_ATTEMPT_HRS</th>\n",
       "      <th>FIRST_TERM_EARNED_HRS</th>\n",
       "      <th>SECOND_TERM_ATTEMPT_HRS</th>\n",
       "      <th>SECOND_TERM_EARNED_HRS</th>\n",
       "      <th>GROSS_FIN_NEED</th>\n",
       "      <th>COST_OF_ATTEND</th>\n",
       "      <th>EST_FAM_CONTRIBUTION</th>\n",
       "      <th>UNMET_NEED</th>\n",
       "    </tr>\n",
       "  </thead>\n",
       "  <tbody>\n",
       "    <tr>\n",
       "      <td>0</td>\n",
       "      <td>1.0</td>\n",
       "      <td>7808615</td>\n",
       "      <td>18</td>\n",
       "      <td>F</td>\n",
       "      <td>BGD 1</td>\n",
       "      <td>Y</td>\n",
       "      <td>N</td>\n",
       "      <td>Undeclared</td>\n",
       "      <td>1150.0</td>\n",
       "      <td>2007</td>\n",
       "      <td>...</td>\n",
       "      <td>No Information</td>\n",
       "      <td>Bachelors</td>\n",
       "      <td>16</td>\n",
       "      <td>16</td>\n",
       "      <td>14.0</td>\n",
       "      <td>14.0</td>\n",
       "      <td>0</td>\n",
       "      <td>0</td>\n",
       "      <td>0</td>\n",
       "      <td>0.0</td>\n",
       "    </tr>\n",
       "    <tr>\n",
       "      <td>1</td>\n",
       "      <td>1.0</td>\n",
       "      <td>7830063</td>\n",
       "      <td>19</td>\n",
       "      <td>F</td>\n",
       "      <td>BGD 1</td>\n",
       "      <td>N</td>\n",
       "      <td>N</td>\n",
       "      <td>Undeclared</td>\n",
       "      <td>1190.0</td>\n",
       "      <td>2008</td>\n",
       "      <td>...</td>\n",
       "      <td>College/Beyond</td>\n",
       "      <td>Bachelors</td>\n",
       "      <td>18</td>\n",
       "      <td>18</td>\n",
       "      <td>18.0</td>\n",
       "      <td>18.0</td>\n",
       "      <td>570000</td>\n",
       "      <td>1355760</td>\n",
       "      <td>785760</td>\n",
       "      <td>459300.0</td>\n",
       "    </tr>\n",
       "    <tr>\n",
       "      <td>2</td>\n",
       "      <td>1.0</td>\n",
       "      <td>7847538</td>\n",
       "      <td>18</td>\n",
       "      <td>M</td>\n",
       "      <td>BGD 1</td>\n",
       "      <td>Y</td>\n",
       "      <td>N</td>\n",
       "      <td>Mathematics</td>\n",
       "      <td>1030.0</td>\n",
       "      <td>2010</td>\n",
       "      <td>...</td>\n",
       "      <td>Other/Unknown</td>\n",
       "      <td>Bachelors</td>\n",
       "      <td>15</td>\n",
       "      <td>15</td>\n",
       "      <td>14.0</td>\n",
       "      <td>14.0</td>\n",
       "      <td>0</td>\n",
       "      <td>0</td>\n",
       "      <td>0</td>\n",
       "      <td>0.0</td>\n",
       "    </tr>\n",
       "    <tr>\n",
       "      <td>3</td>\n",
       "      <td>1.0</td>\n",
       "      <td>8006429</td>\n",
       "      <td>18</td>\n",
       "      <td>M</td>\n",
       "      <td>BGD 1</td>\n",
       "      <td>Y</td>\n",
       "      <td>N</td>\n",
       "      <td>Undeclared</td>\n",
       "      <td>1220.0</td>\n",
       "      <td>2007</td>\n",
       "      <td>...</td>\n",
       "      <td>College/Beyond</td>\n",
       "      <td>Bachelors</td>\n",
       "      <td>13</td>\n",
       "      <td>13</td>\n",
       "      <td>14.0</td>\n",
       "      <td>14.0</td>\n",
       "      <td>0</td>\n",
       "      <td>0</td>\n",
       "      <td>0</td>\n",
       "      <td>0.0</td>\n",
       "    </tr>\n",
       "    <tr>\n",
       "      <td>4</td>\n",
       "      <td>1.0</td>\n",
       "      <td>7962680</td>\n",
       "      <td>18</td>\n",
       "      <td>F</td>\n",
       "      <td>BGD 1</td>\n",
       "      <td>Y</td>\n",
       "      <td>N</td>\n",
       "      <td>Art</td>\n",
       "      <td>1190.0</td>\n",
       "      <td>2008</td>\n",
       "      <td>...</td>\n",
       "      <td>High School</td>\n",
       "      <td>Bachelors</td>\n",
       "      <td>12</td>\n",
       "      <td>12</td>\n",
       "      <td>12.0</td>\n",
       "      <td>12.0</td>\n",
       "      <td>835920</td>\n",
       "      <td>1355760</td>\n",
       "      <td>519840</td>\n",
       "      <td>278340.0</td>\n",
       "    </tr>\n",
       "  </tbody>\n",
       "</table>\n",
       "<p>5 rows × 38 columns</p>\n",
       "</div>"
      ],
      "text/plain": [
       "   const  STUDENT IDENTIFIER  STDNT_AGE STDNT_GENDER STDNT_BACKGROUND  \\\n",
       "0    1.0             7808615         18            F            BGD 1   \n",
       "1    1.0             7830063         19            F            BGD 1   \n",
       "2    1.0             7847538         18            M            BGD 1   \n",
       "3    1.0             8006429         18            M            BGD 1   \n",
       "4    1.0             7962680         18            F            BGD 1   \n",
       "\n",
       "  IN_STATE_FLAG INTERNATIONAL_STS  STDNT_MAJOR  STDNT_TEST_ENTRANCE_COMB  \\\n",
       "0             Y                 N   Undeclared                    1150.0   \n",
       "1             N                 N   Undeclared                    1190.0   \n",
       "2             Y                 N  Mathematics                    1030.0   \n",
       "3             Y                 N   Undeclared                    1220.0   \n",
       "4             Y                 N          Art                    1190.0   \n",
       "\n",
       "   FIRST_TERM  ... MOTHER_HI_EDU_DESC DEGREE_GROUP_DESC  \\\n",
       "0        2007  ...     No Information         Bachelors   \n",
       "1        2008  ...     College/Beyond         Bachelors   \n",
       "2        2010  ...      Other/Unknown         Bachelors   \n",
       "3        2007  ...     College/Beyond         Bachelors   \n",
       "4        2008  ...        High School         Bachelors   \n",
       "\n",
       "  FIRST_TERM_ATTEMPT_HRS FIRST_TERM_EARNED_HRS SECOND_TERM_ATTEMPT_HRS  \\\n",
       "0                     16                    16                    14.0   \n",
       "1                     18                    18                    18.0   \n",
       "2                     15                    15                    14.0   \n",
       "3                     13                    13                    14.0   \n",
       "4                     12                    12                    12.0   \n",
       "\n",
       "  SECOND_TERM_EARNED_HRS  GROSS_FIN_NEED COST_OF_ATTEND EST_FAM_CONTRIBUTION  \\\n",
       "0                   14.0               0              0                    0   \n",
       "1                   18.0          570000        1355760               785760   \n",
       "2                   14.0               0              0                    0   \n",
       "3                   14.0               0              0                    0   \n",
       "4                   12.0          835920        1355760               519840   \n",
       "\n",
       "  UNMET_NEED  \n",
       "0        0.0  \n",
       "1   459300.0  \n",
       "2        0.0  \n",
       "3        0.0  \n",
       "4   278340.0  \n",
       "\n",
       "[5 rows x 38 columns]"
      ]
     },
     "execution_count": 21,
     "metadata": {},
     "output_type": "execute_result"
    }
   ],
   "source": [
    "from statsmodels.tools import add_constant as add_constant\n",
    "data = add_constant(data)\n",
    "data.head()"
   ]
  },
  {
   "cell_type": "code",
   "execution_count": 22,
   "metadata": {},
   "outputs": [
    {
     "name": "stdout",
     "output_type": "stream",
     "text": [
      "Ex-student: average age = 18.0 years old and standard deviation = 0.6\n",
      "Current student: average age = 18.0 years old and standard deviation = 0.5\n"
     ]
    }
   ],
   "source": [
    "from scipy.stats import norm, skew\n",
    "\n",
    "(mu, sigma) = norm.fit(data.loc[data['RETURNED_2ND_YR'] == 1, 'STDNT_AGE'])\n",
    "print(\n",
    "    'Ex-student: average age = {:.1f} years old and standard deviation = {:.1f}'.format(mu, sigma))\n",
    "(mu, sigma) = norm.fit(data.loc[data['RETURNED_2ND_YR'] == 0, 'STDNT_AGE'])\n",
    "print('Current student: average age = {:.1f} years old and standard deviation = {:.1f}'.format(\n",
    "    mu, sigma))"
   ]
  },
  {
   "cell_type": "code",
   "execution_count": 23,
   "metadata": {},
   "outputs": [
    {
     "data": {
      "image/png": "[encoded data removed]",
      "text/plain": [
       "<Figure size 1080x432 with 1 Axes>"
      ]
     },
     "metadata": {
      "needs_background": "light"
     },
     "output_type": "display_data"
    }
   ],
   "source": [
    "plt.figure(figsize=(15,6))\n",
    "plt.style.use('seaborn-colorblind')\n",
    "plt.grid(True, alpha=0.5)\n",
    "sns.kdeplot(data.loc[data['RETURNED_2ND_YR'] == 0, 'STDNT_AGE'], label = 'Active Student')\n",
    "sns.kdeplot(data.loc[data['RETURNED_2ND_YR'] == 1, 'STDNT_AGE'], label = 'Ex-Student')\n",
    "plt.xlim(left=16, right=26)\n",
    "plt.xlabel('Age (years)')\n",
    "plt.ylabel('Density')\n",
    "plt.title('Age Distribution in Percent by Attrition Status');"
   ]
  },
  {
   "cell_type": "code",
   "execution_count": 24,
   "metadata": {},
   "outputs": [
    {
     "data": {
      "text/plain": [
       "<matplotlib.axes._subplots.AxesSubplot at 0x1ecb7356508>"
      ]
     },
     "execution_count": 24,
     "metadata": {},
     "output_type": "execute_result"
    },
    {
     "data": {
      "image/png": "[encoded data removed]",
      "text/plain": [
       "<Figure size 432x288 with 1 Axes>"
      ]
     },
     "metadata": {
      "needs_background": "light"
     },
     "output_type": "display_data"
    }
   ],
   "source": [
    "sns.countplot(x='HOUSING_STS',data=data)\n",
    "#data['HOUSING_STS'].value_counts()"
   ]
  },
  {
   "cell_type": "code",
   "execution_count": 25,
   "metadata": {},
   "outputs": [
    {
     "data": {
      "text/plain": [
       "<matplotlib.axes._subplots.AxesSubplot at 0x1ecb7257cc8>"
      ]
     },
     "execution_count": 25,
     "metadata": {},
     "output_type": "execute_result"
    },
    {
     "data": {
      "image/png": "[encoded data removed]",
      "text/plain": [
       "<Figure size 432x288 with 1 Axes>"
      ]
     },
     "metadata": {},
     "output_type": "display_data"
    }
   ],
   "source": [
    "sns.set_style('whitegrid')\n",
    "sns.countplot(x='RETURNED_2ND_YR',hue='STDNT_BACKGROUND',data=data,palette='RdBu_r')"
   ]
  },
  {
   "cell_type": "code",
   "execution_count": 26,
   "metadata": {},
   "outputs": [
    {
     "data": {
      "text/plain": [
       "<matplotlib.axes._subplots.AxesSubplot at 0x1ecb7235e88>"
      ]
     },
     "execution_count": 26,
     "metadata": {},
     "output_type": "execute_result"
    },
    {
     "data": {
      "image/png": "[encoded data removed]",
      "text/plain": [
       "<Figure size 432x288 with 1 Axes>"
      ]
     },
     "metadata": {},
     "output_type": "display_data"
    }
   ],
   "source": [
    "sns.set_style('whitegrid')\n",
    "sns.countplot(x='RETURNED_2ND_YR',hue='IN_STATE_FLAG',data=data,palette='RdBu_r')"
   ]
  },
  {
   "cell_type": "code",
   "execution_count": 27,
   "metadata": {},
   "outputs": [
    {
     "data": {
      "text/plain": [
       "<matplotlib.axes._subplots.AxesSubplot at 0x1ecb732da08>"
      ]
     },
     "execution_count": 27,
     "metadata": {},
     "output_type": "execute_result"
    },
    {
     "data": {
      "image/png": "[encoded data removed]",
      "text/plain": [
       "<Figure size 432x288 with 1 Axes>"
      ]
     },
     "metadata": {},
     "output_type": "display_data"
    }
   ],
   "source": [
    "sns.set_style('whitegrid')\n",
    "sns.countplot(x='RETURNED_2ND_YR',hue='STDNT_GENDER',data=data,palette='RdBu_r')"
   ]
  },
  {
   "cell_type": "code",
   "execution_count": 28,
   "metadata": {},
   "outputs": [
    {
     "name": "stdout",
     "output_type": "stream",
     "text": [
      "const                             0.00\n",
      "STUDENT IDENTIFIER           136968.75\n",
      "STDNT_AGE                         0.00\n",
      "STDNT_TEST_ENTRANCE_COMB        200.00\n",
      "FIRST_TERM                        3.00\n",
      "SECOND_TERM                       3.00\n",
      "RETURNED_2ND_YR                   0.00\n",
      "DISTANCE_FROM_HOME               69.00\n",
      "HIGH_SCHL_GPA                     0.69\n",
      "FIRST_TERM_ATTEMPT_HRS            2.00\n",
      "FIRST_TERM_EARNED_HRS             4.00\n",
      "SECOND_TERM_ATTEMPT_HRS           3.00\n",
      "SECOND_TERM_EARNED_HRS            4.00\n",
      "GROSS_FIN_NEED               599580.00\n",
      "COST_OF_ATTEND              1192815.00\n",
      "EST_FAM_CONTRIBUTION         324180.00\n",
      "UNMET_NEED                   187615.50\n",
      "dtype: float64\n"
     ]
    }
   ],
   "source": [
    "Q1 = data.quantile(0.25)\n",
    "Q3 = data.quantile(0.75)\n",
    "IQR = Q3 - Q1\n",
    "print(IQR)"
   ]
  },
  {
   "cell_type": "code",
   "execution_count": 29,
   "metadata": {},
   "outputs": [
    {
     "data": {
      "image/png": "[encoded data removed]",
      "text/plain": [
       "<Figure size 432x288 with 1 Axes>"
      ]
     },
     "metadata": {},
     "output_type": "display_data"
    }
   ],
   "source": [
    "import seaborn as sns\n",
    "sns.set(style=\"whitegrid\")\n",
    "ax = sns.boxplot(x=data[\"STDNT_GENDER\"],y='DISTANCE_FROM_HOME',data=data,palette='winter')"
   ]
  },
  {
   "cell_type": "code",
   "execution_count": 30,
   "metadata": {},
   "outputs": [
    {
     "name": "stdout",
     "output_type": "stream",
     "text": [
      "18.439510065174744\n"
     ]
    },
    {
     "data": {
      "text/plain": [
       "count    3375.000000\n",
       "mean       99.825185\n",
       "std       235.196984\n",
       "min         0.000000\n",
       "25%        69.000000\n",
       "50%        69.000000\n",
       "75%       138.000000\n",
       "max      5932.000000\n",
       "Name: DISTANCE_FROM_HOME, dtype: float64"
      ]
     },
     "execution_count": 30,
     "metadata": {},
     "output_type": "execute_result"
    }
   ],
   "source": [
    "print(data['DISTANCE_FROM_HOME'].skew())\n",
    "data['DISTANCE_FROM_HOME'].describe()"
   ]
  },
  {
   "cell_type": "code",
   "execution_count": 31,
   "metadata": {},
   "outputs": [
    {
     "name": "stdout",
     "output_type": "stream",
     "text": [
      "0.0\n",
      "150.0\n"
     ]
    }
   ],
   "source": [
    "print(data['DISTANCE_FROM_HOME'].quantile(0.10))\n",
    "print(data['DISTANCE_FROM_HOME'].quantile(0.90))"
   ]
  },
  {
   "cell_type": "code",
   "execution_count": 32,
   "metadata": {},
   "outputs": [
    {
     "name": "stdout",
     "output_type": "stream",
     "text": [
      "-0.07085149394802058\n"
     ]
    }
   ],
   "source": [
    "data['DISTANCE_FROM_HOME'] = np.where(data['DISTANCE_FROM_HOME'] <0.0, 0.0,data['DISTANCE_FROM_HOME'])\n",
    "data['DISTANCE_FROM_HOME'] = np.where(data['DISTANCE_FROM_HOME'] >150.0, 150.0,data['DISTANCE_FROM_HOME'])\n",
    "print(data['DISTANCE_FROM_HOME'].skew())"
   ]
  },
  {
   "cell_type": "code",
   "execution_count": 33,
   "metadata": {},
   "outputs": [
    {
     "data": {
      "text/html": [
       "<div>\n",
       "<style scoped>\n",
       "    .dataframe tbody tr th:only-of-type {\n",
       "        vertical-align: middle;\n",
       "    }\n",
       "\n",
       "    .dataframe tbody tr th {\n",
       "        vertical-align: top;\n",
       "    }\n",
       "\n",
       "    .dataframe thead th {\n",
       "        text-align: right;\n",
       "    }\n",
       "</style>\n",
       "<table border=\"1\" class=\"dataframe\">\n",
       "  <thead>\n",
       "    <tr style=\"text-align: right;\">\n",
       "      <th></th>\n",
       "      <th>count</th>\n",
       "      <th>mean</th>\n",
       "      <th>std</th>\n",
       "      <th>min</th>\n",
       "      <th>25%</th>\n",
       "      <th>50%</th>\n",
       "      <th>75%</th>\n",
       "      <th>max</th>\n",
       "    </tr>\n",
       "    <tr>\n",
       "      <th>STDNT_GENDER</th>\n",
       "      <th></th>\n",
       "      <th></th>\n",
       "      <th></th>\n",
       "      <th></th>\n",
       "      <th></th>\n",
       "      <th></th>\n",
       "      <th></th>\n",
       "      <th></th>\n",
       "    </tr>\n",
       "  </thead>\n",
       "  <tbody>\n",
       "    <tr>\n",
       "      <td>F</td>\n",
       "      <td>2120.0</td>\n",
       "      <td>81.237264</td>\n",
       "      <td>52.071527</td>\n",
       "      <td>0.0</td>\n",
       "      <td>69.0</td>\n",
       "      <td>69.0</td>\n",
       "      <td>138.0</td>\n",
       "      <td>150.0</td>\n",
       "    </tr>\n",
       "    <tr>\n",
       "      <td>M</td>\n",
       "      <td>1255.0</td>\n",
       "      <td>76.185657</td>\n",
       "      <td>49.978015</td>\n",
       "      <td>0.0</td>\n",
       "      <td>69.0</td>\n",
       "      <td>69.0</td>\n",
       "      <td>136.0</td>\n",
       "      <td>150.0</td>\n",
       "    </tr>\n",
       "  </tbody>\n",
       "</table>\n",
       "</div>"
      ],
      "text/plain": [
       "               count       mean        std  min   25%   50%    75%    max\n",
       "STDNT_GENDER                                                             \n",
       "F             2120.0  81.237264  52.071527  0.0  69.0  69.0  138.0  150.0\n",
       "M             1255.0  76.185657  49.978015  0.0  69.0  69.0  136.0  150.0"
      ]
     },
     "execution_count": 33,
     "metadata": {},
     "output_type": "execute_result"
    }
   ],
   "source": [
    "data.groupby('STDNT_GENDER')['DISTANCE_FROM_HOME'].describe()"
   ]
  },
  {
   "cell_type": "code",
   "execution_count": 34,
   "metadata": {},
   "outputs": [],
   "source": [
    "def stud_comb(cols):\n",
    "    DISTANCE_FROM_HOME=cols[0]\n",
    "    STDNT_GENDER=cols[1]\n",
    "    \n",
    "    if pd.isnull(DISTANCE_FROM_HOME):\n",
    "        if STDNT_GENDER=='F':\n",
    "            return 81.237264\n",
    "        else:\n",
    "            return 76.185657\n",
    "    else:   \n",
    "        return DISTANCE_FROM_HOME"
   ]
  },
  {
   "cell_type": "code",
   "execution_count": 35,
   "metadata": {},
   "outputs": [],
   "source": [
    "data['DISTANCE_FROM_HOME']=data[['DISTANCE_FROM_HOME','STDNT_GENDER']].apply(stud_comb,axis=1)"
   ]
  },
  {
   "cell_type": "code",
   "execution_count": 36,
   "metadata": {},
   "outputs": [],
   "source": [
    "data['FIRST_TERM_PERFOMANCE']=data['FIRST_TERM_EARNED_HRS']/data['FIRST_TERM_ATTEMPT_HRS']"
   ]
  },
  {
   "cell_type": "code",
   "execution_count": 37,
   "metadata": {},
   "outputs": [],
   "source": [
    "data['SECOND_TERM_PERFOMANCE']=data['SECOND_TERM_EARNED_HRS']/data['SECOND_TERM_ATTEMPT_HRS']"
   ]
  },
  {
   "cell_type": "code",
   "execution_count": 38,
   "metadata": {},
   "outputs": [
    {
     "data": {
      "text/plain": [
       "count    3191.000000\n",
       "mean        0.872315\n",
       "std         0.200743\n",
       "min         0.000000\n",
       "25%         0.769231\n",
       "50%         1.000000\n",
       "75%         1.000000\n",
       "max         1.055556\n",
       "Name: SECOND_TERM_PERFOMANCE, dtype: float64"
      ]
     },
     "execution_count": 38,
     "metadata": {},
     "output_type": "execute_result"
    }
   ],
   "source": [
    "data['SECOND_TERM_PERFOMANCE'].describe()"
   ]
  },
  {
   "cell_type": "code",
   "execution_count": 39,
   "metadata": {},
   "outputs": [
    {
     "data": {
      "image/png": "[encoded data removed]",
      "text/plain": [
       "<Figure size 432x288 with 1 Axes>"
      ]
     },
     "metadata": {},
     "output_type": "display_data"
    }
   ],
   "source": [
    "import seaborn as sns\n",
    "sns.set(style=\"whitegrid\")\n",
    "ax = sns.boxplot(x=data[\"STDNT_GENDER\"],y='SECOND_TERM_PERFOMANCE',data=data,palette='winter')"
   ]
  },
  {
   "cell_type": "code",
   "execution_count": 40,
   "metadata": {},
   "outputs": [
    {
     "name": "stdout",
     "output_type": "stream",
     "text": [
      "-1.7919656956699828\n"
     ]
    },
    {
     "data": {
      "text/plain": [
       "count    3191.000000\n",
       "mean        0.872315\n",
       "std         0.200743\n",
       "min         0.000000\n",
       "25%         0.769231\n",
       "50%         1.000000\n",
       "75%         1.000000\n",
       "max         1.055556\n",
       "Name: SECOND_TERM_PERFOMANCE, dtype: float64"
      ]
     },
     "execution_count": 40,
     "metadata": {},
     "output_type": "execute_result"
    }
   ],
   "source": [
    "print(data['SECOND_TERM_PERFOMANCE'].skew())\n",
    "data['SECOND_TERM_PERFOMANCE'].describe()"
   ]
  },
  {
   "cell_type": "code",
   "execution_count": 41,
   "metadata": {},
   "outputs": [
    {
     "name": "stdout",
     "output_type": "stream",
     "text": [
      "0.5833333333333334\n",
      "1.0\n"
     ]
    }
   ],
   "source": [
    "print(data['SECOND_TERM_PERFOMANCE'].quantile(0.10))\n",
    "print(data['SECOND_TERM_PERFOMANCE'].quantile(0.90))"
   ]
  },
  {
   "cell_type": "code",
   "execution_count": 42,
   "metadata": {},
   "outputs": [],
   "source": [
    "data['SECOND_TERM_PERFOMANCE']=data['SECOND_TERM_PERFOMANCE'].fillna(0.872315)"
   ]
  },
  {
   "cell_type": "code",
   "execution_count": 43,
   "metadata": {},
   "outputs": [],
   "source": [
    "data.drop(['FIRST_TERM_ATTEMPT_HRS','FIRST_TERM_EARNED_HRS','SECOND_TERM_EARNED_HRS','SECOND_TERM_ATTEMPT_HRS'],axis=1, inplace=True)"
   ]
  },
  {
   "cell_type": "code",
   "execution_count": 44,
   "metadata": {},
   "outputs": [
    {
     "data": {
      "image/png": "[encoded data removed]",
      "text/plain": [
       "<Figure size 432x288 with 1 Axes>"
      ]
     },
     "metadata": {},
     "output_type": "display_data"
    }
   ],
   "source": [
    "import seaborn as sns\n",
    "sns.set(style=\"whitegrid\")\n",
    "ax = sns.boxplot(x=data[\"STDNT_GENDER\"],y='SECOND_TERM_PERFOMANCE',data=data,palette='winter')"
   ]
  },
  {
   "cell_type": "code",
   "execution_count": 45,
   "metadata": {},
   "outputs": [
    {
     "data": {
      "text/html": [
       "<div>\n",
       "<style scoped>\n",
       "    .dataframe tbody tr th:only-of-type {\n",
       "        vertical-align: middle;\n",
       "    }\n",
       "\n",
       "    .dataframe tbody tr th {\n",
       "        vertical-align: top;\n",
       "    }\n",
       "\n",
       "    .dataframe thead th {\n",
       "        text-align: right;\n",
       "    }\n",
       "</style>\n",
       "<table border=\"1\" class=\"dataframe\">\n",
       "  <thead>\n",
       "    <tr style=\"text-align: right;\">\n",
       "      <th></th>\n",
       "      <th>count</th>\n",
       "      <th>mean</th>\n",
       "      <th>std</th>\n",
       "      <th>min</th>\n",
       "      <th>25%</th>\n",
       "      <th>50%</th>\n",
       "      <th>75%</th>\n",
       "      <th>max</th>\n",
       "    </tr>\n",
       "    <tr>\n",
       "      <th>STDNT_GENDER</th>\n",
       "      <th></th>\n",
       "      <th></th>\n",
       "      <th></th>\n",
       "      <th></th>\n",
       "      <th></th>\n",
       "      <th></th>\n",
       "      <th></th>\n",
       "      <th></th>\n",
       "    </tr>\n",
       "  </thead>\n",
       "  <tbody>\n",
       "    <tr>\n",
       "      <td>F</td>\n",
       "      <td>1832.0</td>\n",
       "      <td>985.185590</td>\n",
       "      <td>150.715274</td>\n",
       "      <td>530.0</td>\n",
       "      <td>910.0</td>\n",
       "      <td>990.0</td>\n",
       "      <td>1070.0</td>\n",
       "      <td>1510.0</td>\n",
       "    </tr>\n",
       "    <tr>\n",
       "      <td>M</td>\n",
       "      <td>1050.0</td>\n",
       "      <td>1019.695238</td>\n",
       "      <td>163.281128</td>\n",
       "      <td>530.0</td>\n",
       "      <td>910.0</td>\n",
       "      <td>1030.0</td>\n",
       "      <td>1150.0</td>\n",
       "      <td>1460.0</td>\n",
       "    </tr>\n",
       "  </tbody>\n",
       "</table>\n",
       "</div>"
      ],
      "text/plain": [
       "               count         mean         std    min    25%     50%     75%  \\\n",
       "STDNT_GENDER                                                                  \n",
       "F             1832.0   985.185590  150.715274  530.0  910.0   990.0  1070.0   \n",
       "M             1050.0  1019.695238  163.281128  530.0  910.0  1030.0  1150.0   \n",
       "\n",
       "                 max  \n",
       "STDNT_GENDER          \n",
       "F             1510.0  \n",
       "M             1460.0  "
      ]
     },
     "execution_count": 45,
     "metadata": {},
     "output_type": "execute_result"
    }
   ],
   "source": [
    "data.groupby('STDNT_GENDER')['STDNT_TEST_ENTRANCE_COMB'].describe()"
   ]
  },
  {
   "cell_type": "code",
   "execution_count": 46,
   "metadata": {},
   "outputs": [
    {
     "data": {
      "image/png": "[encoded data removed]",
      "text/plain": [
       "<Figure size 432x288 with 1 Axes>"
      ]
     },
     "metadata": {},
     "output_type": "display_data"
    }
   ],
   "source": [
    "import seaborn as sns\n",
    "sns.set(style=\"whitegrid\")\n",
    "ax = sns.boxplot(x=data[\"STDNT_GENDER\"],y='STDNT_TEST_ENTRANCE_COMB',data=data,palette='winter')"
   ]
  },
  {
   "cell_type": "code",
   "execution_count": 47,
   "metadata": {},
   "outputs": [
    {
     "name": "stdout",
     "output_type": "stream",
     "text": [
      "-0.36469197420163796\n"
     ]
    },
    {
     "data": {
      "text/plain": [
       "count    2882.000000\n",
       "mean      997.758501\n",
       "std       156.268221\n",
       "min       530.000000\n",
       "25%       910.000000\n",
       "50%       990.000000\n",
       "75%      1110.000000\n",
       "max      1510.000000\n",
       "Name: STDNT_TEST_ENTRANCE_COMB, dtype: float64"
      ]
     },
     "execution_count": 47,
     "metadata": {},
     "output_type": "execute_result"
    }
   ],
   "source": [
    "print(data['STDNT_TEST_ENTRANCE_COMB'].skew())\n",
    "data['STDNT_TEST_ENTRANCE_COMB'].describe()"
   ]
  },
  {
   "cell_type": "code",
   "execution_count": 48,
   "metadata": {},
   "outputs": [
    {
     "name": "stdout",
     "output_type": "stream",
     "text": [
      "830.0\n",
      "1190.0\n"
     ]
    }
   ],
   "source": [
    "print(data['STDNT_TEST_ENTRANCE_COMB'].quantile(0.10))\n",
    "print(data['STDNT_TEST_ENTRANCE_COMB'].quantile(0.90))"
   ]
  },
  {
   "cell_type": "code",
   "execution_count": 49,
   "metadata": {},
   "outputs": [],
   "source": [
    "def stud_comb(cols):\n",
    "    STDNT_TEST_ENTRANCE_COMB=cols[0]\n",
    "    STDNT_GENDER=cols[1]\n",
    "    \n",
    "    if pd.isnull(STDNT_TEST_ENTRANCE_COMB):\n",
    "        if STDNT_GENDER=='F':\n",
    "            return 990.0\n",
    "        else:\n",
    "            return 1030.0\n",
    "    else:   \n",
    "        return STDNT_TEST_ENTRANCE_COMB"
   ]
  },
  {
   "cell_type": "code",
   "execution_count": 50,
   "metadata": {},
   "outputs": [],
   "source": [
    "data['STDNT_TEST_ENTRANCE_COMB']=data[['STDNT_TEST_ENTRANCE_COMB','STDNT_GENDER']].apply(stud_comb,axis=1)"
   ]
  },
  {
   "cell_type": "code",
   "execution_count": 51,
   "metadata": {},
   "outputs": [
    {
     "data": {
      "image/png": "[encoded data removed]",
      "text/plain": [
       "<Figure size 432x288 with 1 Axes>"
      ]
     },
     "metadata": {},
     "output_type": "display_data"
    }
   ],
   "source": [
    "import seaborn as sns\n",
    "sns.set(style=\"whitegrid\")\n",
    "ax = sns.boxplot(x=data[\"STDNT_GENDER\"],y='HIGH_SCHL_GPA',data=data,palette='winter')"
   ]
  },
  {
   "cell_type": "code",
   "execution_count": 52,
   "metadata": {},
   "outputs": [
    {
     "data": {
      "text/html": [
       "<div>\n",
       "<style scoped>\n",
       "    .dataframe tbody tr th:only-of-type {\n",
       "        vertical-align: middle;\n",
       "    }\n",
       "\n",
       "    .dataframe tbody tr th {\n",
       "        vertical-align: top;\n",
       "    }\n",
       "\n",
       "    .dataframe thead th {\n",
       "        text-align: right;\n",
       "    }\n",
       "</style>\n",
       "<table border=\"1\" class=\"dataframe\">\n",
       "  <thead>\n",
       "    <tr style=\"text-align: right;\">\n",
       "      <th></th>\n",
       "      <th>count</th>\n",
       "      <th>mean</th>\n",
       "      <th>std</th>\n",
       "      <th>min</th>\n",
       "      <th>25%</th>\n",
       "      <th>50%</th>\n",
       "      <th>75%</th>\n",
       "      <th>max</th>\n",
       "    </tr>\n",
       "    <tr>\n",
       "      <th>STDNT_GENDER</th>\n",
       "      <th></th>\n",
       "      <th></th>\n",
       "      <th></th>\n",
       "      <th></th>\n",
       "      <th></th>\n",
       "      <th></th>\n",
       "      <th></th>\n",
       "      <th></th>\n",
       "    </tr>\n",
       "  </thead>\n",
       "  <tbody>\n",
       "    <tr>\n",
       "      <td>F</td>\n",
       "      <td>2111.0</td>\n",
       "      <td>3.249433</td>\n",
       "      <td>0.442327</td>\n",
       "      <td>0.00</td>\n",
       "      <td>2.93</td>\n",
       "      <td>3.25</td>\n",
       "      <td>3.60</td>\n",
       "      <td>4.0</td>\n",
       "    </tr>\n",
       "    <tr>\n",
       "      <td>M</td>\n",
       "      <td>1236.0</td>\n",
       "      <td>3.122985</td>\n",
       "      <td>0.466218</td>\n",
       "      <td>1.87</td>\n",
       "      <td>2.79</td>\n",
       "      <td>3.13</td>\n",
       "      <td>3.47</td>\n",
       "      <td>4.0</td>\n",
       "    </tr>\n",
       "  </tbody>\n",
       "</table>\n",
       "</div>"
      ],
      "text/plain": [
       "               count      mean       std   min   25%   50%   75%  max\n",
       "STDNT_GENDER                                                         \n",
       "F             2111.0  3.249433  0.442327  0.00  2.93  3.25  3.60  4.0\n",
       "M             1236.0  3.122985  0.466218  1.87  2.79  3.13  3.47  4.0"
      ]
     },
     "execution_count": 52,
     "metadata": {},
     "output_type": "execute_result"
    }
   ],
   "source": [
    "data.groupby('STDNT_GENDER')['HIGH_SCHL_GPA'].describe()"
   ]
  },
  {
   "cell_type": "code",
   "execution_count": 53,
   "metadata": {},
   "outputs": [],
   "source": [
    "def gpa(cols):\n",
    "    HIGH_SCHL_GPA=cols[0]\n",
    "    STDNT_GENDER=cols[1]\n",
    "    if pd.isnull(HIGH_SCHL_GPA):\n",
    "        if STDNT_GENDER=='F':\n",
    "            return 3.25\n",
    "        else:\n",
    "            return 3.13\n",
    "    else:\n",
    "        return HIGH_SCHL_GPA"
   ]
  },
  {
   "cell_type": "code",
   "execution_count": 54,
   "metadata": {},
   "outputs": [],
   "source": [
    "data['HIGH_SCHL_GPA']=data[['HIGH_SCHL_GPA','STDNT_GENDER']].apply(gpa,axis=1)"
   ]
  },
  {
   "cell_type": "code",
   "execution_count": 55,
   "metadata": {},
   "outputs": [
    {
     "data": {
      "text/plain": [
       "N    3373\n",
       "Y      27\n",
       "Name: INTERNATIONAL_STS, dtype: int64"
      ]
     },
     "execution_count": 55,
     "metadata": {},
     "output_type": "execute_result"
    }
   ],
   "source": [
    "data['INTERNATIONAL_STS'].value_counts() "
   ]
  },
  {
   "cell_type": "code",
   "execution_count": 56,
   "metadata": {},
   "outputs": [],
   "source": [
    "dummya=pd.get_dummies(data['INTERNATIONAL_STS'])\n",
    "data=pd.concat([data,dummya],axis=1)"
   ]
  },
  {
   "cell_type": "code",
   "execution_count": 57,
   "metadata": {},
   "outputs": [],
   "source": [
    "data=data.rename(columns = {\"N\": \"INDIAN\",\"Y\":\"NON_INDIAN\"}) "
   ]
  },
  {
   "cell_type": "markdown",
   "metadata": {},
   "source": [
    "# ONE HOT ENCODING"
   ]
  },
  {
   "cell_type": "code",
   "execution_count": 58,
   "metadata": {},
   "outputs": [
    {
     "data": {
      "text/plain": [
       "['Undeclared',\n",
       " 'Biology',\n",
       " 'Early Childhood Education',\n",
       " 'Pre-Nursing',\n",
       " 'Nursing',\n",
       " 'Psychology',\n",
       " 'Pre-Business',\n",
       " 'Theatre Arts',\n",
       " 'Music Performance',\n",
       " 'Criminal Justice']"
      ]
     },
     "execution_count": 58,
     "metadata": {},
     "output_type": "execute_result"
    }
   ],
   "source": [
    "top_10=[x for x in data.STDNT_MAJOR.value_counts().sort_values(ascending=False).head(10).index]\n",
    "top_10"
   ]
  },
  {
   "cell_type": "code",
   "execution_count": 59,
   "metadata": {},
   "outputs": [
    {
     "data": {
      "text/html": [
       "<div>\n",
       "<style scoped>\n",
       "    .dataframe tbody tr th:only-of-type {\n",
       "        vertical-align: middle;\n",
       "    }\n",
       "\n",
       "    .dataframe tbody tr th {\n",
       "        vertical-align: top;\n",
       "    }\n",
       "\n",
       "    .dataframe thead th {\n",
       "        text-align: right;\n",
       "    }\n",
       "</style>\n",
       "<table border=\"1\" class=\"dataframe\">\n",
       "  <thead>\n",
       "    <tr style=\"text-align: right;\">\n",
       "      <th></th>\n",
       "      <th>STDNT_MAJOR</th>\n",
       "      <th>Undeclared</th>\n",
       "      <th>Biology</th>\n",
       "      <th>Early Childhood Education</th>\n",
       "      <th>Pre-Nursing</th>\n",
       "      <th>Nursing</th>\n",
       "      <th>Psychology</th>\n",
       "      <th>Pre-Business</th>\n",
       "      <th>Theatre Arts</th>\n",
       "      <th>Music Performance</th>\n",
       "      <th>Criminal Justice</th>\n",
       "    </tr>\n",
       "  </thead>\n",
       "  <tbody>\n",
       "    <tr>\n",
       "      <td>0</td>\n",
       "      <td>Undeclared</td>\n",
       "      <td>1</td>\n",
       "      <td>0</td>\n",
       "      <td>0</td>\n",
       "      <td>0</td>\n",
       "      <td>0</td>\n",
       "      <td>0</td>\n",
       "      <td>0</td>\n",
       "      <td>0</td>\n",
       "      <td>0</td>\n",
       "      <td>0</td>\n",
       "    </tr>\n",
       "    <tr>\n",
       "      <td>1</td>\n",
       "      <td>Undeclared</td>\n",
       "      <td>1</td>\n",
       "      <td>0</td>\n",
       "      <td>0</td>\n",
       "      <td>0</td>\n",
       "      <td>0</td>\n",
       "      <td>0</td>\n",
       "      <td>0</td>\n",
       "      <td>0</td>\n",
       "      <td>0</td>\n",
       "      <td>0</td>\n",
       "    </tr>\n",
       "    <tr>\n",
       "      <td>2</td>\n",
       "      <td>Mathematics</td>\n",
       "      <td>0</td>\n",
       "      <td>0</td>\n",
       "      <td>0</td>\n",
       "      <td>0</td>\n",
       "      <td>0</td>\n",
       "      <td>0</td>\n",
       "      <td>0</td>\n",
       "      <td>0</td>\n",
       "      <td>0</td>\n",
       "      <td>0</td>\n",
       "    </tr>\n",
       "    <tr>\n",
       "      <td>3</td>\n",
       "      <td>Undeclared</td>\n",
       "      <td>1</td>\n",
       "      <td>0</td>\n",
       "      <td>0</td>\n",
       "      <td>0</td>\n",
       "      <td>0</td>\n",
       "      <td>0</td>\n",
       "      <td>0</td>\n",
       "      <td>0</td>\n",
       "      <td>0</td>\n",
       "      <td>0</td>\n",
       "    </tr>\n",
       "    <tr>\n",
       "      <td>4</td>\n",
       "      <td>Art</td>\n",
       "      <td>0</td>\n",
       "      <td>0</td>\n",
       "      <td>0</td>\n",
       "      <td>0</td>\n",
       "      <td>0</td>\n",
       "      <td>0</td>\n",
       "      <td>0</td>\n",
       "      <td>0</td>\n",
       "      <td>0</td>\n",
       "      <td>0</td>\n",
       "    </tr>\n",
       "  </tbody>\n",
       "</table>\n",
       "</div>"
      ],
      "text/plain": [
       "   STDNT_MAJOR  Undeclared  Biology  Early Childhood Education  Pre-Nursing  \\\n",
       "0   Undeclared           1        0                          0            0   \n",
       "1   Undeclared           1        0                          0            0   \n",
       "2  Mathematics           0        0                          0            0   \n",
       "3   Undeclared           1        0                          0            0   \n",
       "4          Art           0        0                          0            0   \n",
       "\n",
       "   Nursing  Psychology  Pre-Business  Theatre Arts  Music Performance  \\\n",
       "0        0           0             0             0                  0   \n",
       "1        0           0             0             0                  0   \n",
       "2        0           0             0             0                  0   \n",
       "3        0           0             0             0                  0   \n",
       "4        0           0             0             0                  0   \n",
       "\n",
       "   Criminal Justice  \n",
       "0                 0  \n",
       "1                 0  \n",
       "2                 0  \n",
       "3                 0  \n",
       "4                 0  "
      ]
     },
     "execution_count": 59,
     "metadata": {},
     "output_type": "execute_result"
    }
   ],
   "source": [
    "for label in top_10:\n",
    "    data[label]=np.where(data['STDNT_MAJOR']==label,1,0)\n",
    "data[['STDNT_MAJOR']+top_10].head(5)"
   ]
  },
  {
   "cell_type": "code",
   "execution_count": 60,
   "metadata": {},
   "outputs": [
    {
     "data": {
      "text/plain": [
       "BGD 1    2082\n",
       "BGD 3     947\n",
       "BGD 4     139\n",
       "BGD 2     106\n",
       "BGD 6      94\n",
       "BGD 7      19\n",
       "BGD 5       8\n",
       "BGD 8       5\n",
       "Name: STDNT_BACKGROUND, dtype: int64"
      ]
     },
     "execution_count": 60,
     "metadata": {},
     "output_type": "execute_result"
    }
   ],
   "source": [
    "data.STDNT_BACKGROUND.value_counts().sort_values(ascending=False).head(20)"
   ]
  },
  {
   "cell_type": "code",
   "execution_count": 61,
   "metadata": {},
   "outputs": [
    {
     "data": {
      "text/plain": [
       "['BGD 1', 'BGD 3', 'BGD 4', 'BGD 2', 'BGD 6']"
      ]
     },
     "execution_count": 61,
     "metadata": {},
     "output_type": "execute_result"
    }
   ],
   "source": [
    "top_5=[x for x in data.STDNT_BACKGROUND.value_counts().sort_values(ascending=False).head(5).index]\n",
    "top_5"
   ]
  },
  {
   "cell_type": "code",
   "execution_count": 62,
   "metadata": {},
   "outputs": [
    {
     "data": {
      "text/html": [
       "<div>\n",
       "<style scoped>\n",
       "    .dataframe tbody tr th:only-of-type {\n",
       "        vertical-align: middle;\n",
       "    }\n",
       "\n",
       "    .dataframe tbody tr th {\n",
       "        vertical-align: top;\n",
       "    }\n",
       "\n",
       "    .dataframe thead th {\n",
       "        text-align: right;\n",
       "    }\n",
       "</style>\n",
       "<table border=\"1\" class=\"dataframe\">\n",
       "  <thead>\n",
       "    <tr style=\"text-align: right;\">\n",
       "      <th></th>\n",
       "      <th>STDNT_BACKGROUND</th>\n",
       "      <th>BGD 1</th>\n",
       "      <th>BGD 3</th>\n",
       "      <th>BGD 4</th>\n",
       "      <th>BGD 2</th>\n",
       "      <th>BGD 6</th>\n",
       "    </tr>\n",
       "  </thead>\n",
       "  <tbody>\n",
       "    <tr>\n",
       "      <td>0</td>\n",
       "      <td>BGD 1</td>\n",
       "      <td>1</td>\n",
       "      <td>0</td>\n",
       "      <td>0</td>\n",
       "      <td>0</td>\n",
       "      <td>0</td>\n",
       "    </tr>\n",
       "    <tr>\n",
       "      <td>1</td>\n",
       "      <td>BGD 1</td>\n",
       "      <td>1</td>\n",
       "      <td>0</td>\n",
       "      <td>0</td>\n",
       "      <td>0</td>\n",
       "      <td>0</td>\n",
       "    </tr>\n",
       "    <tr>\n",
       "      <td>2</td>\n",
       "      <td>BGD 1</td>\n",
       "      <td>1</td>\n",
       "      <td>0</td>\n",
       "      <td>0</td>\n",
       "      <td>0</td>\n",
       "      <td>0</td>\n",
       "    </tr>\n",
       "    <tr>\n",
       "      <td>3</td>\n",
       "      <td>BGD 1</td>\n",
       "      <td>1</td>\n",
       "      <td>0</td>\n",
       "      <td>0</td>\n",
       "      <td>0</td>\n",
       "      <td>0</td>\n",
       "    </tr>\n",
       "    <tr>\n",
       "      <td>4</td>\n",
       "      <td>BGD 1</td>\n",
       "      <td>1</td>\n",
       "      <td>0</td>\n",
       "      <td>0</td>\n",
       "      <td>0</td>\n",
       "      <td>0</td>\n",
       "    </tr>\n",
       "  </tbody>\n",
       "</table>\n",
       "</div>"
      ],
      "text/plain": [
       "  STDNT_BACKGROUND  BGD 1  BGD 3  BGD 4  BGD 2  BGD 6\n",
       "0            BGD 1      1      0      0      0      0\n",
       "1            BGD 1      1      0      0      0      0\n",
       "2            BGD 1      1      0      0      0      0\n",
       "3            BGD 1      1      0      0      0      0\n",
       "4            BGD 1      1      0      0      0      0"
      ]
     },
     "execution_count": 62,
     "metadata": {},
     "output_type": "execute_result"
    }
   ],
   "source": [
    "for label in top_5:\n",
    "    data[label]=np.where(data['STDNT_BACKGROUND']==label,1,0)\n",
    "data[['STDNT_BACKGROUND']+top_5].head(5)"
   ]
  },
  {
   "cell_type": "code",
   "execution_count": 63,
   "metadata": {},
   "outputs": [
    {
     "data": {
      "text/plain": [
       "['ENGL',\n",
       " 'HIST',\n",
       " 'CHEM',\n",
       " 'MATH',\n",
       " 'COMM',\n",
       " 'ARTH',\n",
       " 'ECON',\n",
       " 'CPSC',\n",
       " 'POLS',\n",
       " 'BIOL']"
      ]
     },
     "execution_count": 63,
     "metadata": {},
     "output_type": "execute_result"
    }
   ],
   "source": [
    "top_10=[x for x in data.CORE_COURSE_NAME_1_F.value_counts().sort_values(ascending=False).head(10).index]\n",
    "top_10"
   ]
  },
  {
   "cell_type": "code",
   "execution_count": 64,
   "metadata": {},
   "outputs": [
    {
     "data": {
      "text/html": [
       "<div>\n",
       "<style scoped>\n",
       "    .dataframe tbody tr th:only-of-type {\n",
       "        vertical-align: middle;\n",
       "    }\n",
       "\n",
       "    .dataframe tbody tr th {\n",
       "        vertical-align: top;\n",
       "    }\n",
       "\n",
       "    .dataframe thead th {\n",
       "        text-align: right;\n",
       "    }\n",
       "</style>\n",
       "<table border=\"1\" class=\"dataframe\">\n",
       "  <thead>\n",
       "    <tr style=\"text-align: right;\">\n",
       "      <th></th>\n",
       "      <th>CORE_COURSE_NAME_1_F</th>\n",
       "      <th>ENGL</th>\n",
       "      <th>HIST</th>\n",
       "      <th>CHEM</th>\n",
       "      <th>MATH</th>\n",
       "      <th>COMM</th>\n",
       "      <th>ARTH</th>\n",
       "      <th>ECON</th>\n",
       "      <th>CPSC</th>\n",
       "      <th>POLS</th>\n",
       "      <th>BIOL</th>\n",
       "    </tr>\n",
       "  </thead>\n",
       "  <tbody>\n",
       "    <tr>\n",
       "      <td>0</td>\n",
       "      <td>ANTH</td>\n",
       "      <td>0</td>\n",
       "      <td>0</td>\n",
       "      <td>0</td>\n",
       "      <td>0</td>\n",
       "      <td>0</td>\n",
       "      <td>0</td>\n",
       "      <td>0</td>\n",
       "      <td>0</td>\n",
       "      <td>0</td>\n",
       "      <td>0</td>\n",
       "    </tr>\n",
       "    <tr>\n",
       "      <td>1</td>\n",
       "      <td>ANTH</td>\n",
       "      <td>0</td>\n",
       "      <td>0</td>\n",
       "      <td>0</td>\n",
       "      <td>0</td>\n",
       "      <td>0</td>\n",
       "      <td>0</td>\n",
       "      <td>0</td>\n",
       "      <td>0</td>\n",
       "      <td>0</td>\n",
       "      <td>0</td>\n",
       "    </tr>\n",
       "    <tr>\n",
       "      <td>2</td>\n",
       "      <td>ANTH</td>\n",
       "      <td>0</td>\n",
       "      <td>0</td>\n",
       "      <td>0</td>\n",
       "      <td>0</td>\n",
       "      <td>0</td>\n",
       "      <td>0</td>\n",
       "      <td>0</td>\n",
       "      <td>0</td>\n",
       "      <td>0</td>\n",
       "      <td>0</td>\n",
       "    </tr>\n",
       "    <tr>\n",
       "      <td>3</td>\n",
       "      <td>ANTH</td>\n",
       "      <td>0</td>\n",
       "      <td>0</td>\n",
       "      <td>0</td>\n",
       "      <td>0</td>\n",
       "      <td>0</td>\n",
       "      <td>0</td>\n",
       "      <td>0</td>\n",
       "      <td>0</td>\n",
       "      <td>0</td>\n",
       "      <td>0</td>\n",
       "    </tr>\n",
       "    <tr>\n",
       "      <td>4</td>\n",
       "      <td>ANTH</td>\n",
       "      <td>0</td>\n",
       "      <td>0</td>\n",
       "      <td>0</td>\n",
       "      <td>0</td>\n",
       "      <td>0</td>\n",
       "      <td>0</td>\n",
       "      <td>0</td>\n",
       "      <td>0</td>\n",
       "      <td>0</td>\n",
       "      <td>0</td>\n",
       "    </tr>\n",
       "  </tbody>\n",
       "</table>\n",
       "</div>"
      ],
      "text/plain": [
       "  CORE_COURSE_NAME_1_F  ENGL  HIST  CHEM  MATH  COMM  ARTH  ECON  CPSC  POLS  \\\n",
       "0                 ANTH     0     0     0     0     0     0     0     0     0   \n",
       "1                 ANTH     0     0     0     0     0     0     0     0     0   \n",
       "2                 ANTH     0     0     0     0     0     0     0     0     0   \n",
       "3                 ANTH     0     0     0     0     0     0     0     0     0   \n",
       "4                 ANTH     0     0     0     0     0     0     0     0     0   \n",
       "\n",
       "   BIOL  \n",
       "0     0  \n",
       "1     0  \n",
       "2     0  \n",
       "3     0  \n",
       "4     0  "
      ]
     },
     "execution_count": 64,
     "metadata": {},
     "output_type": "execute_result"
    }
   ],
   "source": [
    "for label in top_10:\n",
    "    data[label]=np.where(data['CORE_COURSE_NAME_1_F']==label,1,0)\n",
    "data[['CORE_COURSE_NAME_1_F']+top_10].head(5)"
   ]
  },
  {
   "cell_type": "code",
   "execution_count": 65,
   "metadata": {},
   "outputs": [],
   "source": [
    "data=data.rename(columns = {\"ENGL\": \"2015_ENGL\",\n",
    "                            \"HIST\":\"2015_HIST\",\n",
    "                            \"CHEM\":\"2015_CHEM\",\n",
    "                            \"MATH\":\"2015_MATH\",\n",
    "                           \"COMM\":\"2015_COMM\",\n",
    "                           \"ARTH\":\"2015_ARTH\",\n",
    "                           \"ECON\":\"2015_ECON\",\n",
    "                           \"CPSC\":\"2015_CPSC\",\n",
    "                           \"POLS\":\"2015_POLS\",\n",
    "                           \"BIOL\":\"2015_BIOL\",}) "
   ]
  },
  {
   "cell_type": "code",
   "execution_count": 66,
   "metadata": {},
   "outputs": [
    {
     "data": {
      "text/plain": [
       "0    ENGL\n",
       "dtype: object"
      ]
     },
     "execution_count": 66,
     "metadata": {},
     "output_type": "execute_result"
    }
   ],
   "source": [
    "data['CORE_COURSE_NAME_2_F'].mode()"
   ]
  },
  {
   "cell_type": "code",
   "execution_count": 67,
   "metadata": {},
   "outputs": [],
   "source": [
    "data['CORE_COURSE_NAME_2_F']=data['CORE_COURSE_NAME_2_F'].fillna('ENGL')"
   ]
  },
  {
   "cell_type": "code",
   "execution_count": 68,
   "metadata": {},
   "outputs": [
    {
     "data": {
      "text/plain": [
       "ENGL    897\n",
       "HIST    500\n",
       "CHEM    352\n",
       "MATH    320\n",
       "COMM    233\n",
       "POLS    138\n",
       "ARTH    124\n",
       "ECON    106\n",
       "PSYC    103\n",
       "MUSC     99\n",
       "Name: CORE_COURSE_NAME_2_F, dtype: int64"
      ]
     },
     "execution_count": 68,
     "metadata": {},
     "output_type": "execute_result"
    }
   ],
   "source": [
    "data.CORE_COURSE_NAME_2_F.value_counts().sort_values(ascending=False).head(10)"
   ]
  },
  {
   "cell_type": "code",
   "execution_count": 69,
   "metadata": {},
   "outputs": [
    {
     "data": {
      "text/plain": [
       "['ENGL',\n",
       " 'HIST',\n",
       " 'CHEM',\n",
       " 'MATH',\n",
       " 'COMM',\n",
       " 'POLS',\n",
       " 'ARTH',\n",
       " 'ECON',\n",
       " 'PSYC',\n",
       " 'MUSC']"
      ]
     },
     "execution_count": 69,
     "metadata": {},
     "output_type": "execute_result"
    }
   ],
   "source": [
    "top_10=[x for x in data.CORE_COURSE_NAME_2_F.value_counts().sort_values(ascending=False).head(10).index]\n",
    "top_10"
   ]
  },
  {
   "cell_type": "code",
   "execution_count": 70,
   "metadata": {},
   "outputs": [
    {
     "data": {
      "text/html": [
       "<div>\n",
       "<style scoped>\n",
       "    .dataframe tbody tr th:only-of-type {\n",
       "        vertical-align: middle;\n",
       "    }\n",
       "\n",
       "    .dataframe tbody tr th {\n",
       "        vertical-align: top;\n",
       "    }\n",
       "\n",
       "    .dataframe thead th {\n",
       "        text-align: right;\n",
       "    }\n",
       "</style>\n",
       "<table border=\"1\" class=\"dataframe\">\n",
       "  <thead>\n",
       "    <tr style=\"text-align: right;\">\n",
       "      <th></th>\n",
       "      <th>CORE_COURSE_NAME_2_F</th>\n",
       "      <th>ENGL</th>\n",
       "      <th>HIST</th>\n",
       "      <th>CHEM</th>\n",
       "      <th>MATH</th>\n",
       "      <th>COMM</th>\n",
       "      <th>POLS</th>\n",
       "      <th>ARTH</th>\n",
       "      <th>ECON</th>\n",
       "      <th>PSYC</th>\n",
       "      <th>MUSC</th>\n",
       "    </tr>\n",
       "  </thead>\n",
       "  <tbody>\n",
       "    <tr>\n",
       "      <td>0</td>\n",
       "      <td>ARTH</td>\n",
       "      <td>0</td>\n",
       "      <td>0</td>\n",
       "      <td>0</td>\n",
       "      <td>0</td>\n",
       "      <td>0</td>\n",
       "      <td>0</td>\n",
       "      <td>1</td>\n",
       "      <td>0</td>\n",
       "      <td>0</td>\n",
       "      <td>0</td>\n",
       "    </tr>\n",
       "    <tr>\n",
       "      <td>1</td>\n",
       "      <td>GERM</td>\n",
       "      <td>0</td>\n",
       "      <td>0</td>\n",
       "      <td>0</td>\n",
       "      <td>0</td>\n",
       "      <td>0</td>\n",
       "      <td>0</td>\n",
       "      <td>0</td>\n",
       "      <td>0</td>\n",
       "      <td>0</td>\n",
       "      <td>0</td>\n",
       "    </tr>\n",
       "    <tr>\n",
       "      <td>2</td>\n",
       "      <td>ENGL</td>\n",
       "      <td>1</td>\n",
       "      <td>0</td>\n",
       "      <td>0</td>\n",
       "      <td>0</td>\n",
       "      <td>0</td>\n",
       "      <td>0</td>\n",
       "      <td>0</td>\n",
       "      <td>0</td>\n",
       "      <td>0</td>\n",
       "      <td>0</td>\n",
       "    </tr>\n",
       "    <tr>\n",
       "      <td>3</td>\n",
       "      <td>COMM</td>\n",
       "      <td>0</td>\n",
       "      <td>0</td>\n",
       "      <td>0</td>\n",
       "      <td>0</td>\n",
       "      <td>1</td>\n",
       "      <td>0</td>\n",
       "      <td>0</td>\n",
       "      <td>0</td>\n",
       "      <td>0</td>\n",
       "      <td>0</td>\n",
       "    </tr>\n",
       "    <tr>\n",
       "      <td>4</td>\n",
       "      <td>ARTH</td>\n",
       "      <td>0</td>\n",
       "      <td>0</td>\n",
       "      <td>0</td>\n",
       "      <td>0</td>\n",
       "      <td>0</td>\n",
       "      <td>0</td>\n",
       "      <td>1</td>\n",
       "      <td>0</td>\n",
       "      <td>0</td>\n",
       "      <td>0</td>\n",
       "    </tr>\n",
       "  </tbody>\n",
       "</table>\n",
       "</div>"
      ],
      "text/plain": [
       "  CORE_COURSE_NAME_2_F  ENGL  HIST  CHEM  MATH  COMM  POLS  ARTH  ECON  PSYC  \\\n",
       "0                 ARTH     0     0     0     0     0     0     1     0     0   \n",
       "1                 GERM     0     0     0     0     0     0     0     0     0   \n",
       "2                 ENGL     1     0     0     0     0     0     0     0     0   \n",
       "3                 COMM     0     0     0     0     1     0     0     0     0   \n",
       "4                 ARTH     0     0     0     0     0     0     1     0     0   \n",
       "\n",
       "   MUSC  \n",
       "0     0  \n",
       "1     0  \n",
       "2     0  \n",
       "3     0  \n",
       "4     0  "
      ]
     },
     "execution_count": 70,
     "metadata": {},
     "output_type": "execute_result"
    }
   ],
   "source": [
    "for label in top_10:\n",
    "    data[label]=np.where(data['CORE_COURSE_NAME_2_F']==label,1,0)\n",
    "data[['CORE_COURSE_NAME_2_F']+top_10].head(5)\n",
    "    "
   ]
  },
  {
   "cell_type": "code",
   "execution_count": 71,
   "metadata": {},
   "outputs": [],
   "source": [
    "data=data.rename(columns = {\"ENGL\": \"2016_ENGL\",\n",
    "                            \"HIST\":\"2016_HIST\",\n",
    "                            \"CHEM\":\"2016_CHEM\",\n",
    "                            \"MATH\":\"2016_MATH\",\n",
    "                           \"COMM\":\"2016_COMM\",\n",
    "                           \"POLS\":\"2016_POLS\",\n",
    "                           \"ARTH\":\"2016_ARTH\",\n",
    "                           \"ECON\":\"2016_ECON\",\n",
    "                           \"PSYC\":\"2016_PSYC\",\n",
    "                           \"MUSC\":\"2016_MUSC\",}) "
   ]
  },
  {
   "cell_type": "code",
   "execution_count": 72,
   "metadata": {},
   "outputs": [
    {
     "data": {
      "text/plain": [
       "565"
      ]
     },
     "execution_count": 72,
     "metadata": {},
     "output_type": "execute_result"
    }
   ],
   "source": [
    "data['CORE_COURSE_NAME_3_F'].isnull().sum()"
   ]
  },
  {
   "cell_type": "code",
   "execution_count": 73,
   "metadata": {},
   "outputs": [
    {
     "data": {
      "text/plain": [
       "0    ENGL\n",
       "dtype: object"
      ]
     },
     "execution_count": 73,
     "metadata": {},
     "output_type": "execute_result"
    }
   ],
   "source": [
    "data['CORE_COURSE_NAME_3_F'].mode()"
   ]
  },
  {
   "cell_type": "code",
   "execution_count": 74,
   "metadata": {},
   "outputs": [],
   "source": [
    "data['CORE_COURSE_NAME_3_F']=data['CORE_COURSE_NAME_3_F'].fillna(value=\"ENGL\")"
   ]
  },
  {
   "cell_type": "code",
   "execution_count": 75,
   "metadata": {},
   "outputs": [
    {
     "data": {
      "text/plain": [
       "['ENGL',\n",
       " 'HIST',\n",
       " 'MATH',\n",
       " 'CHEM',\n",
       " 'ITDS',\n",
       " 'COMM',\n",
       " 'POLS',\n",
       " 'MUSC',\n",
       " 'THEA',\n",
       " 'PSYC']"
      ]
     },
     "execution_count": 75,
     "metadata": {},
     "output_type": "execute_result"
    }
   ],
   "source": [
    "top_10=[x for x in data.CORE_COURSE_NAME_3_F.value_counts().sort_values(ascending=False).head(10).index]\n",
    "top_10"
   ]
  },
  {
   "cell_type": "code",
   "execution_count": 76,
   "metadata": {},
   "outputs": [
    {
     "data": {
      "text/html": [
       "<div>\n",
       "<style scoped>\n",
       "    .dataframe tbody tr th:only-of-type {\n",
       "        vertical-align: middle;\n",
       "    }\n",
       "\n",
       "    .dataframe tbody tr th {\n",
       "        vertical-align: top;\n",
       "    }\n",
       "\n",
       "    .dataframe thead th {\n",
       "        text-align: right;\n",
       "    }\n",
       "</style>\n",
       "<table border=\"1\" class=\"dataframe\">\n",
       "  <thead>\n",
       "    <tr style=\"text-align: right;\">\n",
       "      <th></th>\n",
       "      <th>CORE_COURSE_NAME_3_F</th>\n",
       "      <th>ENGL</th>\n",
       "      <th>HIST</th>\n",
       "      <th>MATH</th>\n",
       "      <th>CHEM</th>\n",
       "      <th>ITDS</th>\n",
       "      <th>COMM</th>\n",
       "      <th>POLS</th>\n",
       "      <th>MUSC</th>\n",
       "      <th>THEA</th>\n",
       "      <th>PSYC</th>\n",
       "    </tr>\n",
       "  </thead>\n",
       "  <tbody>\n",
       "    <tr>\n",
       "      <td>0</td>\n",
       "      <td>ENGL</td>\n",
       "      <td>1</td>\n",
       "      <td>0</td>\n",
       "      <td>0</td>\n",
       "      <td>0</td>\n",
       "      <td>0</td>\n",
       "      <td>0</td>\n",
       "      <td>0</td>\n",
       "      <td>0</td>\n",
       "      <td>0</td>\n",
       "      <td>0</td>\n",
       "    </tr>\n",
       "    <tr>\n",
       "      <td>1</td>\n",
       "      <td>ITDS</td>\n",
       "      <td>0</td>\n",
       "      <td>0</td>\n",
       "      <td>0</td>\n",
       "      <td>0</td>\n",
       "      <td>1</td>\n",
       "      <td>0</td>\n",
       "      <td>0</td>\n",
       "      <td>0</td>\n",
       "      <td>0</td>\n",
       "      <td>0</td>\n",
       "    </tr>\n",
       "    <tr>\n",
       "      <td>2</td>\n",
       "      <td>HIST</td>\n",
       "      <td>0</td>\n",
       "      <td>1</td>\n",
       "      <td>0</td>\n",
       "      <td>0</td>\n",
       "      <td>0</td>\n",
       "      <td>0</td>\n",
       "      <td>0</td>\n",
       "      <td>0</td>\n",
       "      <td>0</td>\n",
       "      <td>0</td>\n",
       "    </tr>\n",
       "    <tr>\n",
       "      <td>3</td>\n",
       "      <td>ENGL</td>\n",
       "      <td>1</td>\n",
       "      <td>0</td>\n",
       "      <td>0</td>\n",
       "      <td>0</td>\n",
       "      <td>0</td>\n",
       "      <td>0</td>\n",
       "      <td>0</td>\n",
       "      <td>0</td>\n",
       "      <td>0</td>\n",
       "      <td>0</td>\n",
       "    </tr>\n",
       "    <tr>\n",
       "      <td>4</td>\n",
       "      <td>CPSC</td>\n",
       "      <td>0</td>\n",
       "      <td>0</td>\n",
       "      <td>0</td>\n",
       "      <td>0</td>\n",
       "      <td>0</td>\n",
       "      <td>0</td>\n",
       "      <td>0</td>\n",
       "      <td>0</td>\n",
       "      <td>0</td>\n",
       "      <td>0</td>\n",
       "    </tr>\n",
       "  </tbody>\n",
       "</table>\n",
       "</div>"
      ],
      "text/plain": [
       "  CORE_COURSE_NAME_3_F  ENGL  HIST  MATH  CHEM  ITDS  COMM  POLS  MUSC  THEA  \\\n",
       "0                 ENGL     1     0     0     0     0     0     0     0     0   \n",
       "1                 ITDS     0     0     0     0     1     0     0     0     0   \n",
       "2                 HIST     0     1     0     0     0     0     0     0     0   \n",
       "3                 ENGL     1     0     0     0     0     0     0     0     0   \n",
       "4                 CPSC     0     0     0     0     0     0     0     0     0   \n",
       "\n",
       "   PSYC  \n",
       "0     0  \n",
       "1     0  \n",
       "2     0  \n",
       "3     0  \n",
       "4     0  "
      ]
     },
     "execution_count": 76,
     "metadata": {},
     "output_type": "execute_result"
    }
   ],
   "source": [
    "for label in top_10:\n",
    "    data[label]=np.where(data['CORE_COURSE_NAME_3_F']==label,1,0)\n",
    "data[['CORE_COURSE_NAME_3_F']+top_10].head(5)"
   ]
  },
  {
   "cell_type": "code",
   "execution_count": 77,
   "metadata": {},
   "outputs": [],
   "source": [
    "data=data.rename(columns = {\"ENGL\": \"2017_ENGL\",\n",
    "                            \"HIST\":\"2017_HIST\",\n",
    "                            \"MATH\":\"2017_MATH\",\n",
    "                            \"CHEM\":\"2017_CHEM\",\n",
    "                           \"ITDS\":\"2017_ITDS\",\n",
    "                           \"COMM\":\"2017_COMM\",\n",
    "                           \"POLS\":\"2017_POLS\",\n",
    "                           \"MUSC\":\"2017_MUSC\",\n",
    "                           \"THEA\":\"2017_THEA\",\n",
    "                           \"PSYC\":\"2017_PSYC\",}) "
   ]
  },
  {
   "cell_type": "code",
   "execution_count": 78,
   "metadata": {},
   "outputs": [
    {
     "data": {
      "text/plain": [
       "['C', 'B', 'D', 'F', 'A']"
      ]
     },
     "execution_count": 78,
     "metadata": {},
     "output_type": "execute_result"
    }
   ],
   "source": [
    "top_5=[x for x in data.CORE_COURSE_GRADE_1_F.value_counts().sort_values(ascending=False).head(5).index]\n",
    "top_5"
   ]
  },
  {
   "cell_type": "code",
   "execution_count": 79,
   "metadata": {},
   "outputs": [
    {
     "data": {
      "text/html": [
       "<div>\n",
       "<style scoped>\n",
       "    .dataframe tbody tr th:only-of-type {\n",
       "        vertical-align: middle;\n",
       "    }\n",
       "\n",
       "    .dataframe tbody tr th {\n",
       "        vertical-align: top;\n",
       "    }\n",
       "\n",
       "    .dataframe thead th {\n",
       "        text-align: right;\n",
       "    }\n",
       "</style>\n",
       "<table border=\"1\" class=\"dataframe\">\n",
       "  <thead>\n",
       "    <tr style=\"text-align: right;\">\n",
       "      <th></th>\n",
       "      <th>CORE_COURSE_GRADE_1_F</th>\n",
       "      <th>C</th>\n",
       "      <th>B</th>\n",
       "      <th>D</th>\n",
       "      <th>F</th>\n",
       "      <th>A</th>\n",
       "    </tr>\n",
       "  </thead>\n",
       "  <tbody>\n",
       "    <tr>\n",
       "      <td>0</td>\n",
       "      <td>A</td>\n",
       "      <td>0</td>\n",
       "      <td>0</td>\n",
       "      <td>0</td>\n",
       "      <td>0</td>\n",
       "      <td>1</td>\n",
       "    </tr>\n",
       "    <tr>\n",
       "      <td>1</td>\n",
       "      <td>A</td>\n",
       "      <td>0</td>\n",
       "      <td>0</td>\n",
       "      <td>0</td>\n",
       "      <td>0</td>\n",
       "      <td>1</td>\n",
       "    </tr>\n",
       "    <tr>\n",
       "      <td>2</td>\n",
       "      <td>A</td>\n",
       "      <td>0</td>\n",
       "      <td>0</td>\n",
       "      <td>0</td>\n",
       "      <td>0</td>\n",
       "      <td>1</td>\n",
       "    </tr>\n",
       "    <tr>\n",
       "      <td>3</td>\n",
       "      <td>A</td>\n",
       "      <td>0</td>\n",
       "      <td>0</td>\n",
       "      <td>0</td>\n",
       "      <td>0</td>\n",
       "      <td>1</td>\n",
       "    </tr>\n",
       "    <tr>\n",
       "      <td>4</td>\n",
       "      <td>A</td>\n",
       "      <td>0</td>\n",
       "      <td>0</td>\n",
       "      <td>0</td>\n",
       "      <td>0</td>\n",
       "      <td>1</td>\n",
       "    </tr>\n",
       "  </tbody>\n",
       "</table>\n",
       "</div>"
      ],
      "text/plain": [
       "  CORE_COURSE_GRADE_1_F  C  B  D  F  A\n",
       "0                     A  0  0  0  0  1\n",
       "1                     A  0  0  0  0  1\n",
       "2                     A  0  0  0  0  1\n",
       "3                     A  0  0  0  0  1\n",
       "4                     A  0  0  0  0  1"
      ]
     },
     "execution_count": 79,
     "metadata": {},
     "output_type": "execute_result"
    }
   ],
   "source": [
    "for label in top_5:\n",
    "    data[label]=np.where(data['CORE_COURSE_GRADE_1_F']==label,1,0)\n",
    "data[['CORE_COURSE_GRADE_1_F']+top_5].head(5)"
   ]
  },
  {
   "cell_type": "code",
   "execution_count": 80,
   "metadata": {},
   "outputs": [],
   "source": [
    "data=data.rename(columns = {\"A\": \"2015_ENGL_A\",\n",
    "                            \"B\":\"2015_HIST_B\",\n",
    "                            \"C\":\"2015_MATH_C\",\n",
    "                            \"D\":\"2015_CHEM_D\",\n",
    "                           \"F\":\"2015_ITDS_F\",}) "
   ]
  },
  {
   "cell_type": "code",
   "execution_count": 81,
   "metadata": {},
   "outputs": [
    {
     "data": {
      "text/plain": [
       "['B', 'C', 'A', 'D', 'F']"
      ]
     },
     "execution_count": 81,
     "metadata": {},
     "output_type": "execute_result"
    }
   ],
   "source": [
    "top_5=[x for x in data.CORE_COURSE_GRADE_2_F.value_counts().sort_values(ascending=False).head(5).index]\n",
    "top_5"
   ]
  },
  {
   "cell_type": "code",
   "execution_count": 82,
   "metadata": {},
   "outputs": [
    {
     "data": {
      "text/html": [
       "<div>\n",
       "<style scoped>\n",
       "    .dataframe tbody tr th:only-of-type {\n",
       "        vertical-align: middle;\n",
       "    }\n",
       "\n",
       "    .dataframe tbody tr th {\n",
       "        vertical-align: top;\n",
       "    }\n",
       "\n",
       "    .dataframe thead th {\n",
       "        text-align: right;\n",
       "    }\n",
       "</style>\n",
       "<table border=\"1\" class=\"dataframe\">\n",
       "  <thead>\n",
       "    <tr style=\"text-align: right;\">\n",
       "      <th></th>\n",
       "      <th>CORE_COURSE_GRADE_2_F</th>\n",
       "      <th>B</th>\n",
       "      <th>C</th>\n",
       "      <th>A</th>\n",
       "      <th>D</th>\n",
       "      <th>F</th>\n",
       "    </tr>\n",
       "  </thead>\n",
       "  <tbody>\n",
       "    <tr>\n",
       "      <td>0</td>\n",
       "      <td>A</td>\n",
       "      <td>0</td>\n",
       "      <td>0</td>\n",
       "      <td>1</td>\n",
       "      <td>0</td>\n",
       "      <td>0</td>\n",
       "    </tr>\n",
       "    <tr>\n",
       "      <td>1</td>\n",
       "      <td>A</td>\n",
       "      <td>0</td>\n",
       "      <td>0</td>\n",
       "      <td>1</td>\n",
       "      <td>0</td>\n",
       "      <td>0</td>\n",
       "    </tr>\n",
       "    <tr>\n",
       "      <td>2</td>\n",
       "      <td>A</td>\n",
       "      <td>0</td>\n",
       "      <td>0</td>\n",
       "      <td>1</td>\n",
       "      <td>0</td>\n",
       "      <td>0</td>\n",
       "    </tr>\n",
       "    <tr>\n",
       "      <td>3</td>\n",
       "      <td>A</td>\n",
       "      <td>0</td>\n",
       "      <td>0</td>\n",
       "      <td>1</td>\n",
       "      <td>0</td>\n",
       "      <td>0</td>\n",
       "    </tr>\n",
       "    <tr>\n",
       "      <td>4</td>\n",
       "      <td>A</td>\n",
       "      <td>0</td>\n",
       "      <td>0</td>\n",
       "      <td>1</td>\n",
       "      <td>0</td>\n",
       "      <td>0</td>\n",
       "    </tr>\n",
       "  </tbody>\n",
       "</table>\n",
       "</div>"
      ],
      "text/plain": [
       "  CORE_COURSE_GRADE_2_F  B  C  A  D  F\n",
       "0                     A  0  0  1  0  0\n",
       "1                     A  0  0  1  0  0\n",
       "2                     A  0  0  1  0  0\n",
       "3                     A  0  0  1  0  0\n",
       "4                     A  0  0  1  0  0"
      ]
     },
     "execution_count": 82,
     "metadata": {},
     "output_type": "execute_result"
    }
   ],
   "source": [
    "for label in top_5:\n",
    "    data[label]=np.where(data['CORE_COURSE_GRADE_2_F']==label,1,0)\n",
    "data[['CORE_COURSE_GRADE_2_F']+top_5].head(5)"
   ]
  },
  {
   "cell_type": "code",
   "execution_count": 83,
   "metadata": {},
   "outputs": [],
   "source": [
    "data=data.rename(columns = {\"A\": \"2016_ENGL_A\",\n",
    "                            \"B\":\"2016_HIST_B\",\n",
    "                            \"C\":\"2016_MATH_C\",\n",
    "                            \"D\":\"2016_CHEM_D\",\n",
    "                           \"F\":\"2016_ITDS_F\",}) "
   ]
  },
  {
   "cell_type": "code",
   "execution_count": 84,
   "metadata": {},
   "outputs": [
    {
     "data": {
      "text/plain": [
       "565"
      ]
     },
     "execution_count": 84,
     "metadata": {},
     "output_type": "execute_result"
    }
   ],
   "source": [
    "data['CORE_COURSE_GRADE_3_F'].isnull().sum()"
   ]
  },
  {
   "cell_type": "code",
   "execution_count": 85,
   "metadata": {},
   "outputs": [
    {
     "data": {
      "text/plain": [
       "0    B\n",
       "dtype: object"
      ]
     },
     "execution_count": 85,
     "metadata": {},
     "output_type": "execute_result"
    }
   ],
   "source": [
    "data['CORE_COURSE_GRADE_3_F'].mode()"
   ]
  },
  {
   "cell_type": "code",
   "execution_count": 86,
   "metadata": {},
   "outputs": [
    {
     "data": {
      "text/plain": [
       "B          1155\n",
       "A          1132\n",
       "C           416\n",
       "D           103\n",
       "F            28\n",
       "INCOMPL       1\n",
       "Name: CORE_COURSE_GRADE_3_F, dtype: int64"
      ]
     },
     "execution_count": 86,
     "metadata": {},
     "output_type": "execute_result"
    }
   ],
   "source": [
    "data.CORE_COURSE_GRADE_3_F.value_counts().sort_values(ascending=False).head(20)"
   ]
  },
  {
   "cell_type": "code",
   "execution_count": 87,
   "metadata": {},
   "outputs": [],
   "source": [
    "data['CORE_COURSE_GRADE_3_F']=data['CORE_COURSE_GRADE_3_F'].fillna(value=\"B\")"
   ]
  },
  {
   "cell_type": "code",
   "execution_count": 88,
   "metadata": {},
   "outputs": [
    {
     "data": {
      "text/plain": [
       "['B', 'A', 'C', 'D', 'F']"
      ]
     },
     "execution_count": 88,
     "metadata": {},
     "output_type": "execute_result"
    }
   ],
   "source": [
    "top_5=[x for x in data.CORE_COURSE_GRADE_3_F.value_counts().sort_values(ascending=False).head(5).index]\n",
    "top_5"
   ]
  },
  {
   "cell_type": "code",
   "execution_count": 89,
   "metadata": {},
   "outputs": [
    {
     "data": {
      "text/html": [
       "<div>\n",
       "<style scoped>\n",
       "    .dataframe tbody tr th:only-of-type {\n",
       "        vertical-align: middle;\n",
       "    }\n",
       "\n",
       "    .dataframe tbody tr th {\n",
       "        vertical-align: top;\n",
       "    }\n",
       "\n",
       "    .dataframe thead th {\n",
       "        text-align: right;\n",
       "    }\n",
       "</style>\n",
       "<table border=\"1\" class=\"dataframe\">\n",
       "  <thead>\n",
       "    <tr style=\"text-align: right;\">\n",
       "      <th></th>\n",
       "      <th>CORE_COURSE_GRADE_3_F</th>\n",
       "      <th>B</th>\n",
       "      <th>A</th>\n",
       "      <th>C</th>\n",
       "      <th>D</th>\n",
       "      <th>F</th>\n",
       "    </tr>\n",
       "  </thead>\n",
       "  <tbody>\n",
       "    <tr>\n",
       "      <td>0</td>\n",
       "      <td>A</td>\n",
       "      <td>0</td>\n",
       "      <td>1</td>\n",
       "      <td>0</td>\n",
       "      <td>0</td>\n",
       "      <td>0</td>\n",
       "    </tr>\n",
       "    <tr>\n",
       "      <td>1</td>\n",
       "      <td>A</td>\n",
       "      <td>0</td>\n",
       "      <td>1</td>\n",
       "      <td>0</td>\n",
       "      <td>0</td>\n",
       "      <td>0</td>\n",
       "    </tr>\n",
       "    <tr>\n",
       "      <td>2</td>\n",
       "      <td>A</td>\n",
       "      <td>0</td>\n",
       "      <td>1</td>\n",
       "      <td>0</td>\n",
       "      <td>0</td>\n",
       "      <td>0</td>\n",
       "    </tr>\n",
       "    <tr>\n",
       "      <td>3</td>\n",
       "      <td>B</td>\n",
       "      <td>1</td>\n",
       "      <td>0</td>\n",
       "      <td>0</td>\n",
       "      <td>0</td>\n",
       "      <td>0</td>\n",
       "    </tr>\n",
       "    <tr>\n",
       "      <td>4</td>\n",
       "      <td>A</td>\n",
       "      <td>0</td>\n",
       "      <td>1</td>\n",
       "      <td>0</td>\n",
       "      <td>0</td>\n",
       "      <td>0</td>\n",
       "    </tr>\n",
       "  </tbody>\n",
       "</table>\n",
       "</div>"
      ],
      "text/plain": [
       "  CORE_COURSE_GRADE_3_F  B  A  C  D  F\n",
       "0                     A  0  1  0  0  0\n",
       "1                     A  0  1  0  0  0\n",
       "2                     A  0  1  0  0  0\n",
       "3                     B  1  0  0  0  0\n",
       "4                     A  0  1  0  0  0"
      ]
     },
     "execution_count": 89,
     "metadata": {},
     "output_type": "execute_result"
    }
   ],
   "source": [
    "for label in top_5:\n",
    "    data[label]=np.where(data['CORE_COURSE_GRADE_3_F']==label,1,0)\n",
    "data[['CORE_COURSE_GRADE_3_F']+top_5].head(5)"
   ]
  },
  {
   "cell_type": "code",
   "execution_count": 90,
   "metadata": {},
   "outputs": [],
   "source": [
    "data=data.rename(columns = {\"A\": \"2017_ENGL_A\",\n",
    "                            \"B\":\"2017_HIST_B\",\n",
    "                            \"C\":\"2017_MATH_C\",\n",
    "                            \"D\":\"2017_CHEM_D\",\n",
    "                           \"NG\":\"2017_ITDS_NG\",}) "
   ]
  },
  {
   "cell_type": "code",
   "execution_count": 91,
   "metadata": {},
   "outputs": [],
   "source": [
    "data.drop(['CORE_COURSE_NAME_1_F','CORE_COURSE_GRADE_1_F',\n",
    "           'CORE_COURSE_NAME_2_F','CORE_COURSE_GRADE_2_F','CORE_COURSE_NAME_3_F','CORE_COURSE_GRADE_3_F'],\n",
    "          axis=1, inplace=True)"
   ]
  },
  {
   "cell_type": "code",
   "execution_count": 92,
   "metadata": {},
   "outputs": [],
   "source": [
    "data.drop(['MOTHER_HI_EDU_DESC','DEGREE_GROUP_DESC'], axis=1, inplace=True)"
   ]
  },
  {
   "cell_type": "code",
   "execution_count": 93,
   "metadata": {},
   "outputs": [],
   "source": [
    "dummy3=pd.get_dummies(data['FATHER_HI_EDU_DESC'])\n",
    "data=pd.concat([data,dummy3],axis=1)\n"
   ]
  },
  {
   "cell_type": "code",
   "execution_count": 94,
   "metadata": {},
   "outputs": [],
   "source": [
    "dummy=pd.get_dummies(data['STDNT_GENDER'])\n",
    "data=pd.concat([data,dummy],axis=1)\n"
   ]
  },
  {
   "cell_type": "code",
   "execution_count": 95,
   "metadata": {},
   "outputs": [],
   "source": [
    "dummy1=pd.get_dummies(data['IN_STATE_FLAG'])\n",
    "data=pd.concat([data,dummy1],axis=1)\n"
   ]
  },
  {
   "cell_type": "code",
   "execution_count": 96,
   "metadata": {},
   "outputs": [],
   "source": [
    "data=data.rename(columns = {\"F\": \"FEMALE\",\"M\":\"MALE\",\"Y\":\"IN_STATE\",\"N\":\"OUT_STATE\"}) "
   ]
  },
  {
   "cell_type": "code",
   "execution_count": 97,
   "metadata": {},
   "outputs": [],
   "source": [
    "dummy2=pd.get_dummies(data['HOUSING_STS'])\n",
    "data=pd.concat([data,dummy2],axis=1)"
   ]
  },
  {
   "cell_type": "code",
   "execution_count": 98,
   "metadata": {},
   "outputs": [],
   "source": [
    "data.drop(['STDNT_MAJOR','STDNT_BACKGROUND','STDNT_GENDER','IN_STATE_FLAG','HOUSING_STS'],axis=1, inplace=True)"
   ]
  },
  {
   "cell_type": "markdown",
   "metadata": {},
   "source": [
    "# MIN MAX SCALAR"
   ]
  },
  {
   "cell_type": "code",
   "execution_count": 99,
   "metadata": {},
   "outputs": [],
   "source": [
    "from sklearn.preprocessing import MinMaxScaler"
   ]
  },
  {
   "cell_type": "code",
   "execution_count": 100,
   "metadata": {},
   "outputs": [],
   "source": [
    "data_min_max=data[['GROSS_FIN_NEED','COST_OF_ATTEND','EST_FAM_CONTRIBUTION','UNMET_NEED','DISTANCE_FROM_HOME','HIGH_SCHL_GPA']]\n",
    "min_max_scaler=MinMaxScaler()\n",
    "min_max_scaler.fit(data[['GROSS_FIN_NEED','COST_OF_ATTEND','EST_FAM_CONTRIBUTION','UNMET_NEED','DISTANCE_FROM_HOME','HIGH_SCHL_GPA']])\n",
    "array1=min_max_scaler.transform(data[['GROSS_FIN_NEED','COST_OF_ATTEND','EST_FAM_CONTRIBUTION','UNMET_NEED','DISTANCE_FROM_HOME','HIGH_SCHL_GPA']])\n",
    "df=pd.DataFrame(data=array1,columns=['GROSS_FIN_NEED','COST_OF_ATTEND','EST_FAM_CONTRIBUTION','UNMET_NEED','DISTANCE_FROM_HOME','HIGH_SCHL_GPA'])"
   ]
  },
  {
   "cell_type": "code",
   "execution_count": 101,
   "metadata": {},
   "outputs": [],
   "source": [
    "data=data.drop(columns=['GROSS_FIN_NEED','COST_OF_ATTEND','EST_FAM_CONTRIBUTION','UNMET_NEED','DISTANCE_FROM_HOME','HIGH_SCHL_GPA'])"
   ]
  },
  {
   "cell_type": "code",
   "execution_count": 102,
   "metadata": {},
   "outputs": [],
   "source": [
    "data=data.join(df)"
   ]
  },
  {
   "cell_type": "code",
   "execution_count": 103,
   "metadata": {},
   "outputs": [
    {
     "data": {
      "text/plain": [
       "count    3400.000000\n",
       "mean        0.142784\n",
       "std         0.227599\n",
       "min         0.000000\n",
       "25%         0.000000\n",
       "50%         0.000000\n",
       "75%         0.282169\n",
       "max         1.000000\n",
       "Name: GROSS_FIN_NEED, dtype: float64"
      ]
     },
     "execution_count": 103,
     "metadata": {},
     "output_type": "execute_result"
    }
   ],
   "source": [
    "data['GROSS_FIN_NEED'].describe()"
   ]
  },
  {
   "cell_type": "code",
   "execution_count": 104,
   "metadata": {},
   "outputs": [],
   "source": [
    "data=data.rename(columns = {\"College/Beyond\": \"FAT_EDU_3\",\n",
    "                            \"High School\":\"FAT_EDU_2\",\n",
    "                            \"Middle School/Junior High\":\"FAT_EDU_1\",\n",
    "                            \"No Information\":\"FAT_EDU_NO_INFO\",\n",
    "                           \"Other/Unknown\":\"FAT_EDU_UNKNOWN\"}) "
   ]
  },
  {
   "cell_type": "code",
   "execution_count": 105,
   "metadata": {},
   "outputs": [],
   "source": [
    "data['FAT_EDU_3']=data.FAT_EDU_3.astype(int)\n",
    "data['FAT_EDU_2']=data.FAT_EDU_2.astype(int)\n",
    "data['FAT_EDU_1']=data.FAT_EDU_1.astype(int)\n",
    "data['FAT_EDU_NO_INFO']=data.FAT_EDU_NO_INFO.astype(int)\n",
    "data['FAT_EDU_UNKNOWN']=data.FAT_EDU_UNKNOWN.astype(int)\n",
    "data['FEMALE']=data.FEMALE.astype(int)\n",
    "data['MALE']=data.MALE.astype(int)\n",
    "data['OUT_STATE']=data.OUT_STATE.astype(int)\n",
    "data['IN_STATE']=data.IN_STATE.astype(int)\n"
   ]
  },
  {
   "cell_type": "code",
   "execution_count": 106,
   "metadata": {},
   "outputs": [],
   "source": [
    "data=data.rename(columns = {\"OFF_CAMPUS_3\": \"OFF_CAMPUS_\",\n",
    "                            \"ON_CAMPUS\":\"ON_CAMPUS_\",\n",
    "                            }) "
   ]
  },
  {
   "cell_type": "code",
   "execution_count": 107,
   "metadata": {},
   "outputs": [],
   "source": [
    "data['OFF_CAMPUS_']=data.OUT_STATE.astype(int)\n",
    "data['ON_CAMPUS_']=data.IN_STATE.astype(int)\n"
   ]
  },
  {
   "cell_type": "code",
   "execution_count": 108,
   "metadata": {},
   "outputs": [],
   "source": [
    "data.drop(['FEMALE','Off Campus','On Campus','FATHER_HI_EDU_DESC','CORE_COURSE_NAME_1_S','CORE_COURSE_GRADE_1_S',\n",
    "           'CORE_COURSE_NAME_2_S','CORE_COURSE_GRADE_2_S','CORE_COURSE_NAME_3_S','CORE_COURSE_GRADE_3_S','INTERNATIONAL_STS'],\n",
    "          axis=1, inplace=True)"
   ]
  },
  {
   "cell_type": "code",
   "execution_count": 109,
   "metadata": {},
   "outputs": [],
   "source": [
    "X=data.drop(['RETURNED_2ND_YR'],axis=1, inplace=False)\n",
    "y=data['RETURNED_2ND_YR']"
   ]
  },
  {
   "cell_type": "code",
   "execution_count": 110,
   "metadata": {},
   "outputs": [
    {
     "name": "stdout",
     "output_type": "stream",
     "text": [
      "                            OLS Regression Results                            \n",
      "==============================================================================\n",
      "Dep. Variable:        RETURNED_2ND_YR   R-squared:                       0.096\n",
      "Model:                            OLS   Adj. R-squared:                  0.075\n",
      "Method:                 Least Squares   F-statistic:                     4.521\n",
      "Date:                Thu, 12 Mar 2020   Prob (F-statistic):           3.17e-34\n",
      "Time:                        03:25:13   Log-Likelihood:                -1614.6\n",
      "No. Observations:                3400   AIC:                             3387.\n",
      "Df Residuals:                    3321   BIC:                             3872.\n",
      "Df Model:                          78                                         \n",
      "Covariance Type:            nonrobust                                         \n",
      "=============================================================================================\n",
      "                                coef    std err          t      P>|t|      [0.025      0.975]\n",
      "---------------------------------------------------------------------------------------------\n",
      "const                        -5.3716      2.938     -1.828      0.068     -11.133       0.389\n",
      "STUDENT IDENTIFIER         6.478e-08   8.44e-08      0.768      0.443   -1.01e-07     2.3e-07\n",
      "STDNT_AGE                     0.0015      0.013      0.119      0.905      -0.023       0.026\n",
      "STDNT_TEST_ENTRANCE_COMB   9.947e-05   5.09e-05      1.955      0.051   -2.96e-07       0.000\n",
      "FIRST_TERM                    2.6900      1.471      1.828      0.068      -0.195       5.575\n",
      "SECOND_TERM                  -2.6816      1.467     -1.828      0.068      -5.557       0.194\n",
      "FIRST_TERM_PERFOMANCE         0.1931      0.052      3.743      0.000       0.092       0.294\n",
      "SECOND_TERM_PERFOMANCE       -0.1427      0.039     -3.629      0.000      -0.220      -0.066\n",
      "INDIAN                       -2.8220      1.470     -1.920      0.055      -5.704       0.060\n",
      "NON_INDIAN                   -2.5496      1.469     -1.735      0.083      -5.431       0.332\n",
      "Undeclared                    0.0346      0.022      1.596      0.111      -0.008       0.077\n",
      "Biology                       0.0644      0.026      2.515      0.012       0.014       0.115\n",
      "Early Childhood Education    -0.0105      0.032     -0.328      0.743      -0.073       0.052\n",
      "Pre-Nursing                   0.0992      0.037      2.694      0.007       0.027       0.171\n",
      "Nursing                       0.0711      0.036      1.970      0.049       0.000       0.142\n",
      "Psychology                    0.0746      0.035      2.144      0.032       0.006       0.143\n",
      "Pre-Business                  0.0316      0.038      0.837      0.403      -0.042       0.106\n",
      "Theatre Arts                 -0.1428      0.038     -3.780      0.000      -0.217      -0.069\n",
      "Music Performance            -0.1122      0.043     -2.616      0.009      -0.196      -0.028\n",
      "Criminal Justice              0.1013      0.042      2.430      0.015       0.020       0.183\n",
      "BGD 1                        -0.1017      0.071     -1.434      0.152      -0.241       0.037\n",
      "BGD 3                        -0.1909      0.072     -2.659      0.008      -0.332      -0.050\n",
      "BGD 4                        -0.1564      0.078     -1.997      0.046      -0.310      -0.003\n",
      "BGD 2                        -0.1580      0.080     -1.968      0.049      -0.315      -0.001\n",
      "BGD 6                        -0.1998      0.081     -2.455      0.014      -0.359      -0.040\n",
      "2015_ENGL                     0.0367      0.026      1.402      0.161      -0.015       0.088\n",
      "2015_HIST                    -0.0075      0.026     -0.285      0.775      -0.059       0.044\n",
      "2015_CHEM                    -0.0172      0.032     -0.539      0.590      -0.080       0.045\n",
      "2015_MATH                    -0.0233      0.030     -0.774      0.439      -0.082       0.036\n",
      "2015_COMM                    -0.0359      0.031     -1.164      0.245      -0.096       0.025\n",
      "2015_ARTH                     0.0392      0.035      1.120      0.263      -0.029       0.108\n",
      "2015_ECON                     0.0759      0.035      2.148      0.032       0.007       0.145\n",
      "2015_CPSC                     0.0402      0.043      0.935      0.350      -0.044       0.125\n",
      "2015_POLS                    -0.0155      0.042     -0.369      0.712      -0.098       0.067\n",
      "2015_BIOL                    -0.0208      0.044     -0.471      0.638      -0.107       0.066\n",
      "2016_ENGL                     0.0349      0.024      1.456      0.146      -0.012       0.082\n",
      "2016_HIST                     0.0009      0.026      0.035      0.972      -0.049       0.051\n",
      "2016_CHEM                    -0.0509      0.032     -1.592      0.111      -0.113       0.012\n",
      "2016_MATH                    -0.0109      0.030     -0.368      0.713      -0.069       0.047\n",
      "2016_COMM                     0.0106      0.032      0.331      0.741      -0.052       0.073\n",
      "2016_POLS                     0.0664      0.039      1.713      0.087      -0.010       0.142\n",
      "2016_ARTH                     0.0335      0.040      0.828      0.408      -0.046       0.113\n",
      "2016_ECON                    -0.0073      0.043     -0.169      0.866      -0.092       0.077\n",
      "2016_PSYC                     0.0087      0.044      0.200      0.841      -0.077       0.094\n",
      "2016_MUSC                     0.0742      0.044      1.678      0.093      -0.012       0.161\n",
      "2017_ENGL                     0.0117      0.024      0.494      0.621      -0.035       0.058\n",
      "2017_HIST                    -0.0204      0.029     -0.697      0.486      -0.078       0.037\n",
      "2017_MATH                    -0.0260      0.030     -0.881      0.379      -0.084       0.032\n",
      "2017_CHEM                    -0.0051      0.033     -0.155      0.877      -0.070       0.060\n",
      "2017_ITDS                    -0.0820      0.037     -2.238      0.025      -0.154      -0.010\n",
      "2017_COMM                    -0.0903      0.036     -2.482      0.013      -0.162      -0.019\n",
      "2017_POLS                    -0.0795      0.038     -2.067      0.039      -0.155      -0.004\n",
      "2017_MUSC                    -0.0093      0.040     -0.234      0.815      -0.087       0.068\n",
      "2017_THEA                    -0.0705      0.044     -1.616      0.106      -0.156       0.015\n",
      "2017_PSYC                    -0.0239      0.044     -0.537      0.592      -0.111       0.063\n",
      "2015_MATH_C                   0.0077      0.038      0.203      0.839      -0.067       0.082\n",
      "2015_HIST_B                  -0.0447      0.040     -1.113      0.266      -0.124       0.034\n",
      "2015_CHEM_D                   0.0871      0.040      2.190      0.029       0.009       0.165\n",
      "2015_ITDS_F                   0.1519      0.043      3.557      0.000       0.068       0.236\n",
      "2015_ENGL_A                   0.0080      0.048      0.166      0.868      -0.087       0.103\n",
      "2016_HIST_B                   0.0062      0.046      0.133      0.894      -0.084       0.097\n",
      "2016_MATH_C                   0.0497      0.049      1.005      0.315      -0.047       0.147\n",
      "2016_ENGL_A                  -0.0081      0.046     -0.176      0.861      -0.099       0.083\n",
      "2016_CHEM_D                   0.0208      0.057      0.367      0.714      -0.090       0.132\n",
      "2016_ITDS_F                   0.1572      0.070      2.254      0.024       0.020       0.294\n",
      "2017_HIST_B                  -0.3025      0.089     -3.399      0.001      -0.477      -0.128\n",
      "2017_ENGL_A                  -0.2933      0.091     -3.236      0.001      -0.471      -0.116\n",
      "2017_MATH_C                  -0.2953      0.088     -3.353      0.001      -0.468      -0.123\n",
      "2017_CHEM_D                  -0.2495      0.088     -2.824      0.005      -0.423      -0.076\n",
      "FAT_EDU_3                    -1.0954      0.588     -1.862      0.063      -2.249       0.058\n",
      "FAT_EDU_2                    -1.0812      0.588     -1.838      0.066      -2.235       0.072\n",
      "FAT_EDU_1                    -1.0352      0.589     -1.756      0.079      -2.191       0.121\n",
      "FAT_EDU_NO_INFO              -1.0786      0.585     -1.842      0.066      -2.227       0.069\n",
      "FAT_EDU_UNKNOWN              -1.0812      0.589     -1.836      0.066      -2.236       0.073\n",
      "MALE                         -0.0498      0.016     -3.211      0.001      -0.080      -0.019\n",
      "OUT_STATE                    -2.6767      1.469     -1.822      0.069      -5.557       0.204\n",
      "IN_STATE                     -2.6949      1.469     -1.835      0.067      -5.575       0.185\n",
      "GROSS_FIN_NEED               -0.2039      0.094     -2.171      0.030      -0.388      -0.020\n",
      "COST_OF_ATTEND                0.1097      0.062      1.762      0.078      -0.012       0.232\n",
      "EST_FAM_CONTRIBUTION         -0.1313      0.085     -1.540      0.124      -0.298       0.036\n",
      "UNMET_NEED                    0.3880      0.138      2.815      0.005       0.118       0.658\n",
      "DISTANCE_FROM_HOME            0.1146      0.021      5.453      0.000       0.073       0.156\n",
      "HIGH_SCHL_GPA                -0.0047      0.073     -0.064      0.949      -0.148       0.138\n",
      "OFF_CAMPUS_                  -2.6767      1.469     -1.822      0.069      -5.557       0.204\n",
      "ON_CAMPUS_                   -2.6949      1.469     -1.835      0.067      -5.575       0.185\n",
      "==============================================================================\n",
      "Omnibus:                      554.362   Durbin-Watson:                   1.690\n",
      "Prob(Omnibus):                  0.000   Jarque-Bera (JB):              875.098\n",
      "Skew:                           1.242   Prob(JB):                    9.44e-191\n",
      "Kurtosis:                       3.079   Cond. No.                     4.01e+18\n",
      "==============================================================================\n",
      "\n",
      "Warnings:\n",
      "[1] Standard Errors assume that the covariance matrix of the errors is correctly specified.\n",
      "[2] The smallest eigenvalue is 1.32e-20. This might indicate that there are\n",
      "strong multicollinearity problems or that the design matrix is singular.\n"
     ]
    }
   ],
   "source": [
    "train_x1 = sm.add_constant(X)\n",
    "model = sm.OLS(y, X)\n",
    "result = model.fit()\n",
    "print(result.summary())"
   ]
  },
  {
   "cell_type": "code",
   "execution_count": 111,
   "metadata": {},
   "outputs": [],
   "source": [
    "data.drop(['STDNT_AGE','Early Childhood Education','HIGH_SCHL_GPA','SECOND_TERM_PERFOMANCE',\n",
    "           '2015_HIST','2015_CHEM','2015_POLS','2015_BIOL','2016_HIST','2016_MATH','2016_COMM','2016_ECON','2016_PSYC','2017_ENGL',\n",
    "            '2017_CHEM','2017_MUSC','2017_PSYC'],axis=1, inplace=True)"
   ]
  },
  {
   "cell_type": "code",
   "execution_count": 112,
   "metadata": {},
   "outputs": [],
   "source": [
    "X_train, X_test, Y_train, Y_test = train_test_split(X, y, test_size=0.2, random_state=110)"
   ]
  },
  {
   "cell_type": "markdown",
   "metadata": {},
   "source": [
    "# MAYBE WE SHOULD TACKLE THE CLASS IMBALANCE YES USING OVER SAMPLING"
   ]
  },
  {
   "cell_type": "code",
   "execution_count": 113,
   "metadata": {},
   "outputs": [],
   "source": [
    "from imblearn.over_sampling import SMOTE\n",
    "oversampler=SMOTE(random_state=110)\n",
    "X_train, Y_train = oversampler.fit_sample(X_train,Y_train)"
   ]
  },
  {
   "cell_type": "code",
   "execution_count": 114,
   "metadata": {},
   "outputs": [
    {
     "name": "stdout",
     "output_type": "stream",
     "text": [
      "Number transactions X_train dataset:  (4254, 85)\n",
      "Number transactions y_train dataset:  (4254,)\n",
      "Number transactions X_test dataset:  (680, 85)\n",
      "Number transactions y_test dataset:  (680,)\n"
     ]
    }
   ],
   "source": [
    "print(\"Number transactions X_train dataset: \", X_train.shape)\n",
    "print(\"Number transactions y_train dataset: \", Y_train.shape)\n",
    "print(\"Number transactions X_test dataset: \", X_test.shape)\n",
    "print(\"Number transactions y_test dataset: \", Y_test.shape)"
   ]
  },
  {
   "cell_type": "markdown",
   "metadata": {},
   "source": [
    "# Machine Learning Models"
   ]
  },
  {
   "cell_type": "code",
   "execution_count": 115,
   "metadata": {},
   "outputs": [
    {
     "name": "stdout",
     "output_type": "stream",
     "text": [
      "==============================\n",
      "RandomForestClassifier\n",
      "****Results****\n",
      "Accuracy: 80.8824%\n",
      "Log Loss: 0.45753789963513236\n",
      "==============================\n",
      "AdaBoostClassifier\n",
      "****Results****\n",
      "Accuracy: 81.6176%\n",
      "Log Loss: 0.6830486390328739\n",
      "==============================\n",
      "GradientBoostingClassifier\n",
      "****Results****\n",
      "Accuracy: 85.1471%\n",
      "Log Loss: 0.41186368382645105\n",
      "==============================\n"
     ]
    }
   ],
   "source": [
    "from sklearn.ensemble import RandomForestClassifier, AdaBoostClassifier, GradientBoostingClassifier\n",
    "from sklearn.metrics import accuracy_score\n",
    "from sklearn.metrics import accuracy_score, log_loss\n",
    "\n",
    "classifiers = [\n",
    "    RandomForestClassifier(),\n",
    "    AdaBoostClassifier(),\n",
    "    GradientBoostingClassifier(),\n",
    "   \n",
    "]\n",
    "    \n",
    "\"\"\" Logging for visual comparison. \"\"\" \n",
    "\n",
    "log_cols=[\"Classifier\", \"Accuracy\", \"Log Loss\"]\n",
    "log = pd.DataFrame(columns=log_cols)\n",
    "\n",
    "\"\"\" Iterate through each classification model stated above, fitting the model to the train data and finally\n",
    "    printing the accuracy and log loss of each model. \"\"\"\n",
    "\n",
    "for clf in classifiers:\n",
    "    clf.fit(X_train, Y_train)\n",
    "    name = clf.__class__.__name__\n",
    "    \n",
    "    print(\"=\"*30)\n",
    "    print(name)\n",
    "    \n",
    "    print('****Results****')\n",
    "    train_predictions = clf.predict(X_test)\n",
    "    acc = accuracy_score(Y_test, train_predictions)\n",
    "    print(\"Accuracy: {:.4%}\".format(acc))\n",
    "    \n",
    "    train_predictions = clf.predict_proba(X_test)\n",
    "    ll = log_loss(Y_test, train_predictions)\n",
    "    print(\"Log Loss: {}\".format(ll))\n",
    "    \n",
    "    log_entry = pd.DataFrame([[name, acc*100, ll]], columns=log_cols)\n",
    "    log = log.append(log_entry)\n",
    "    \n",
    "print(\"=\"*30)"
   ]
  },
  {
   "cell_type": "code",
   "execution_count": 116,
   "metadata": {},
   "outputs": [],
   "source": [
    "\"\"\" From this, we can then sort by accuracy and log loss to effectively visualise our results. \"\"\"\n",
    "\n",
    "log1 = log.sort_values(by='Accuracy',ascending=False)\n",
    "log2 = log.sort_values(by='Log Loss')"
   ]
  },
  {
   "cell_type": "code",
   "execution_count": 117,
   "metadata": {},
   "outputs": [
    {
     "data": {
      "image/png": "[encoded data removed]",
      "text/plain": [
       "<Figure size 864x288 with 1 Axes>"
      ]
     },
     "metadata": {},
     "output_type": "display_data"
    },
    {
     "data": {
      "image/png": "[encoded data removed]",
      "text/plain": [
       "<Figure size 864x288 with 1 Axes>"
      ]
     },
     "metadata": {},
     "output_type": "display_data"
    }
   ],
   "source": [
    "plt.figure(figsize=(12,4))\n",
    "fig = sns.barplot(x='Accuracy', y='Classifier', data=log1, palette=sns.color_palette(\"Blues_r\", n_colors=len('classifier')))\n",
    "plt.xlabel('Accuracy %', fontsize=18)\n",
    "plt.ylabel('Classifier Model',fontsize=18, position=(0,1),rotation=0)\n",
    "fig.yaxis.labelpad= -125\n",
    "fig.set_xticks(ticks=[0,10,20,30,40,50,60,70,80,90])\n",
    "plt.xticks(fontsize=18)\n",
    "plt.yticks(fontsize=16)\n",
    "plt.title('Classifier Accuracy', fontsize=18)\n",
    "plt.axvline(83.8, 0,1, lw=4, color='red')\n",
    "plt.annotate(s='Baseline:0.21%', xy=(75,-0.5), fontsize=16, color='black')\n",
    "plt.show()\n",
    "\n",
    "plt.figure(figsize=(12,4))\n",
    "fig = sns.barplot(x='Log Loss', y='Classifier', data=log2, palette=sns.color_palette(\"Blues\", n_colors=len('Classifier')))\n",
    "plt.xlabel('Log Loss', fontsize=18)\n",
    "plt.ylabel('Classifier Model',fontsize=18, position=(0,1),rotation=0)\n",
    "fig.yaxis.labelpad= -125\n",
    "plt.xticks(fontsize=18)\n",
    "plt.yticks(fontsize=16)\n",
    "plt.title('Classifier Log Loss', fontsize=18)\n",
    "plt.show()"
   ]
  },
  {
   "cell_type": "markdown",
   "metadata": {},
   "source": [
    "# GRADIENTBOOSTING CLASSIFIER WITH MIN LOG LOSS"
   ]
  },
  {
   "cell_type": "code",
   "execution_count": 118,
   "metadata": {},
   "outputs": [],
   "source": [
    "from sklearn.ensemble import GradientBoostingClassifier"
   ]
  },
  {
   "cell_type": "code",
   "execution_count": 119,
   "metadata": {},
   "outputs": [],
   "source": [
    "clf=GradientBoostingClassifier(n_estimators=120,random_state=100)"
   ]
  },
  {
   "cell_type": "code",
   "execution_count": 120,
   "metadata": {},
   "outputs": [
    {
     "data": {
      "text/plain": [
       "GradientBoostingClassifier(ccp_alpha=0.0, criterion='friedman_mse', init=None,\n",
       "                           learning_rate=0.1, loss='deviance', max_depth=3,\n",
       "                           max_features=None, max_leaf_nodes=None,\n",
       "                           min_impurity_decrease=0.0, min_impurity_split=None,\n",
       "                           min_samples_leaf=1, min_samples_split=2,\n",
       "                           min_weight_fraction_leaf=0.0, n_estimators=120,\n",
       "                           n_iter_no_change=None, presort='deprecated',\n",
       "                           random_state=100, subsample=1.0, tol=0.0001,\n",
       "                           validation_fraction=0.1, verbose=0,\n",
       "                           warm_start=False)"
      ]
     },
     "execution_count": 120,
     "metadata": {},
     "output_type": "execute_result"
    }
   ],
   "source": [
    "clf.fit(X_train,Y_train)"
   ]
  },
  {
   "cell_type": "code",
   "execution_count": 121,
   "metadata": {},
   "outputs": [
    {
     "data": {
      "text/plain": [
       "0.8529411764705882"
      ]
     },
     "execution_count": 121,
     "metadata": {},
     "output_type": "execute_result"
    }
   ],
   "source": [
    "clf.score(X_test,Y_test)"
   ]
  },
  {
   "cell_type": "code",
   "execution_count": 122,
   "metadata": {},
   "outputs": [],
   "source": [
    "from sklearn.model_selection import GridSearchCV"
   ]
  },
  {
   "cell_type": "code",
   "execution_count": 123,
   "metadata": {},
   "outputs": [
    {
     "data": {
      "text/plain": [
       "GridSearchCV(cv=None, error_score=nan,\n",
       "             estimator=GradientBoostingClassifier(ccp_alpha=0.0,\n",
       "                                                  criterion='friedman_mse',\n",
       "                                                  init=None, learning_rate=0.1,\n",
       "                                                  loss='deviance', max_depth=3,\n",
       "                                                  max_features=None,\n",
       "                                                  max_leaf_nodes=None,\n",
       "                                                  min_impurity_decrease=0.0,\n",
       "                                                  min_impurity_split=None,\n",
       "                                                  min_samples_leaf=1,\n",
       "                                                  min_samples_split=2,\n",
       "                                                  min_weight_fraction_leaf=0.0,\n",
       "                                                  n_estimators=120,\n",
       "                                                  n_iter_no_change=None,\n",
       "                                                  presort='deprecated',\n",
       "                                                  random_state=100,\n",
       "                                                  subsample=1.0, tol=0.0001,\n",
       "                                                  validation_fraction=0.1,\n",
       "                                                  verbose=0, warm_start=False),\n",
       "             iid='deprecated', n_jobs=None,\n",
       "             param_grid={'n_estimators': [0, 10, 20, 30, 40, 50, 60, 70, 80, 90,\n",
       "                                          100, 110, 120, 130, 140, 150, 160,\n",
       "                                          170, 180, 190]},\n",
       "             pre_dispatch='2*n_jobs', refit=True, return_train_score=False,\n",
       "             scoring=None, verbose=0)"
      ]
     },
     "execution_count": 123,
     "metadata": {},
     "output_type": "execute_result"
    }
   ],
   "source": [
    "mod=GridSearchCV(clf,param_grid={'n_estimators':np.arange(0,200,10).tolist()})\n",
    "mod.fit(X_train,Y_train)\n"
   ]
  },
  {
   "cell_type": "code",
   "execution_count": 124,
   "metadata": {},
   "outputs": [
    {
     "data": {
      "text/plain": [
       "{'n_estimators': 170}"
      ]
     },
     "execution_count": 124,
     "metadata": {},
     "output_type": "execute_result"
    }
   ],
   "source": [
    "mod.best_params_"
   ]
  },
  {
   "cell_type": "code",
   "execution_count": 125,
   "metadata": {},
   "outputs": [],
   "source": [
    "clf=GradientBoostingClassifier(n_estimators=157,random_state=200)"
   ]
  },
  {
   "cell_type": "code",
   "execution_count": 126,
   "metadata": {},
   "outputs": [
    {
     "data": {
      "text/plain": [
       "0.8632352941176471"
      ]
     },
     "execution_count": 126,
     "metadata": {},
     "output_type": "execute_result"
    }
   ],
   "source": [
    "clf.fit(X_train,Y_train)\n",
    "clf.score(X_test,Y_test)"
   ]
  },
  {
   "cell_type": "markdown",
   "metadata": {},
   "source": [
    "# FEATURE IMPORTANCE"
   ]
  },
  {
   "cell_type": "code",
   "execution_count": 127,
   "metadata": {},
   "outputs": [
    {
     "data": {
      "text/plain": [
       "SECOND_TERM_PERFOMANCE    0.258812\n",
       "BGD 1                     0.103331\n",
       "MALE                      0.075566\n",
       "2017_ENGL_A               0.057467\n",
       "FAT_EDU_3                 0.054994\n",
       "                            ...   \n",
       "2017_CHEM                 0.000121\n",
       "2015_ENGL_A               0.000094\n",
       "BGD 6                     0.000000\n",
       "2016_ARTH                 0.000000\n",
       "const                     0.000000\n",
       "Length: 85, dtype: float64"
      ]
     },
     "execution_count": 127,
     "metadata": {},
     "output_type": "execute_result"
    }
   ],
   "source": [
    "feature_imp=pd.Series(clf.feature_importances_,index=X.columns)\n",
    "feature_imp.sort_values(ascending=False)"
   ]
  },
  {
   "cell_type": "code",
   "execution_count": 128,
   "metadata": {},
   "outputs": [
    {
     "data": {
      "text/plain": [
       "<matplotlib.axes._subplots.AxesSubplot at 0x1ecb6f7fb88>"
      ]
     },
     "execution_count": 128,
     "metadata": {},
     "output_type": "execute_result"
    },
    {
     "data": {
      "image/png": "[encoded data removed]",
      "text/plain": [
       "<Figure size 432x288 with 1 Axes>"
      ]
     },
     "metadata": {},
     "output_type": "display_data"
    }
   ],
   "source": [
    "feature_imp.sort_values(ascending=False).head(20).plot(kind='bar')"
   ]
  },
  {
   "cell_type": "code",
   "execution_count": 129,
   "metadata": {},
   "outputs": [
    {
     "name": "stdout",
     "output_type": "stream",
     "text": [
      "680\n",
      "0.8632352941176471\n",
      "0.38461538461538464\n",
      "[[537  13]\n",
      " [ 80  50]]\n"
     ]
    }
   ],
   "source": [
    "from sklearn.metrics import accuracy_score,recall_score,confusion_matrix\n",
    "Y_pred = clf.predict(X_test)\n",
    "print(len(X_test))\n",
    "print(accuracy_score(Y_test,Y_pred))\n",
    "print(recall_score(Y_test,Y_pred))\n",
    "print(confusion_matrix(Y_test,Y_pred))"
   ]
  },
  {
   "cell_type": "markdown",
   "metadata": {},
   "source": [
    "# CLASSIFICATION RESULTS"
   ]
  },
  {
   "cell_type": "code",
   "execution_count": 130,
   "metadata": {},
   "outputs": [
    {
     "name": "stdout",
     "output_type": "stream",
     "text": [
      "              precision    recall  f1-score   support\n",
      "\n",
      "         0.0       0.87      0.98      0.92       550\n",
      "         1.0       0.79      0.38      0.52       130\n",
      "\n",
      "    accuracy                           0.86       680\n",
      "   macro avg       0.83      0.68      0.72       680\n",
      "weighted avg       0.86      0.86      0.84       680\n",
      "\n"
     ]
    }
   ],
   "source": [
    "from sklearn.metrics import classification_report\n",
    "print(classification_report(Y_test, Y_pred))"
   ]
  },
  {
   "cell_type": "markdown",
   "metadata": {},
   "source": [
    "# ROC_AUC_SCORE"
   ]
  },
  {
   "cell_type": "code",
   "execution_count": 131,
   "metadata": {},
   "outputs": [
    {
     "data": {
      "text/plain": [
       "0.7598601398601398"
      ]
     },
     "execution_count": 131,
     "metadata": {},
     "output_type": "execute_result"
    }
   ],
   "source": [
    "import sklearn.metrics as metrics\n",
    "metrics.roc_auc_score(Y_test,clf.predict_proba(X_test)[:,1])"
   ]
  },
  {
   "cell_type": "code",
   "execution_count": 132,
   "metadata": {},
   "outputs": [
    {
     "data": {
      "image/png": "[encoded data removed]",
      "text/plain": [
       "<Figure size 432x288 with 1 Axes>"
      ]
     },
     "metadata": {},
     "output_type": "display_data"
    }
   ],
   "source": [
    "from sklearn.metrics import plot_roc_curve\n",
    "svc_disp = plot_roc_curve(clf, X_test, Y_test)\n",
    "plt.show()"
   ]
  },
  {
   "cell_type": "code",
   "execution_count": 133,
   "metadata": {},
   "outputs": [
    {
     "data": {
      "text/plain": [
       "array([0.77941176, 0.79705882, 0.77647059, 0.79411765, 0.79705882,\n",
       "       0.77647059, 0.79117647, 0.83235294, 0.87647059, 0.83235294])"
      ]
     },
     "execution_count": 133,
     "metadata": {},
     "output_type": "execute_result"
    }
   ],
   "source": [
    "from sklearn.model_selection import cross_val_score\n",
    "score=cross_val_score(clf,X,y,cv=10)\n",
    "score"
   ]
  },
  {
   "cell_type": "code",
   "execution_count": 134,
   "metadata": {},
   "outputs": [
    {
     "data": {
      "text/plain": [
       "0.8052941176470588"
      ]
     },
     "execution_count": 134,
     "metadata": {},
     "output_type": "execute_result"
    }
   ],
   "source": [
    "score.mean()"
   ]
  },
  {
   "cell_type": "code",
   "execution_count": null,
   "metadata": {},
   "outputs": [],
   "source": []
  }
 ],
 "metadata": {
  "kernelspec": {
   "display_name": "Python 3",
   "language": "python",
   "name": "python3"
  },
  "language_info": {
   "codemirror_mode": {
    "name": "ipython",
    "version": 3
   },
   "file_extension": ".py",
   "mimetype": "text/x-python",
   "name": "python",
   "nbconvert_exporter": "python",
   "pygments_lexer": "ipython3",
   "version": "3.7.4"
  }
 },
 "nbformat": 4,
 "nbformat_minor": 2
}
